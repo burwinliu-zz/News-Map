{
 "cells": [
  {
   "cell_type": "code",
   "execution_count": 1,
   "metadata": {
    "collapsed": true,
    "pycharm": {
     "is_executing": false
    }
   },
   "outputs": [],
   "source": [
    "from webpage.server.webscraping import scraper"
   ]
  },
  {
   "cell_type": "code",
   "execution_count": 2,
   "metadata": {
    "pycharm": {
     "is_executing": false
    }
   },
   "outputs": [],
   "source": [
    "worker = scraper.Headlines()"
   ]
  },
  {
   "cell_type": "code",
   "execution_count": 3,
   "metadata": {
    "pycharm": {
     "is_executing": false
    }
   },
   "outputs": [],
   "source": [
    "sample = worker.gen_samples(predict_country=True)"
   ]
  },
  {
   "cell_type": "code",
   "execution_count": 4,
   "metadata": {
    "pycharm": {
     "is_executing": false
    }
   },
   "outputs": [
    {
     "name": "stdout",
     "text": [
      "failed on https://www.bbc.com/news/uk-politics-49402840with exception<urlopen error [SSL: CERTIFICATE_VERIFY_FAILED] certificate verify failed: unable to get local issuer certificate (_ssl.c:1076)>\n"
     ],
     "output_type": "stream"
    }
   ],
   "source": [
    "bite = sample.__next__()\n"
   ]
  },
  {
   "cell_type": "code",
   "execution_count": null,
   "outputs": [],
   "source": [
    "i = scraper.make_readable(bite[0]['soup'])"
   ],
   "metadata": {
    "collapsed": false,
    "pycharm": {
     "name": "#%%\n"
    }
   }
  },
  {
   "cell_type": "code",
   "execution_count": 13,
   "outputs": [
    {
     "name": "stdout",
     "text": [
      "Technology|Facebook and Twitter Say China Is Spreading Disinformation in Hong KongAdvertisementSAN FRANCISCO — China has adopted Russia’s playbook for spreading disinformation on Facebook and Twitter, deploying those tactics in its increasingly heated information war over the protests that have convulsed Hong Kong.In recent weeks, Facebook and Twitter accounts that originated in China acted in a coordinated fashion to amplify messages and images that portrayed Hong Kong’s protesters as violent and extreme, the two social media companies said on Monday. On Facebook, one recent post from a China-linked account likened the protesters to ISIS fighters. And a Twitter message said, “We don’t want you radical people in Hong Kong. Just get out of here!”Facebook and Twitter said they had now removed the accounts, the first time that the social media companies have had to take down accounts linked to disinformation in China.VideoFor more than two months, antigovernment protests have gripped Hong Kong, with anger rising over China’s growing influence. Here are tactics the Chinese government is using to frame the narrative.Facebook said it eliminated seven pages, three Facebook Groups and five accounts involved in the disinformation campaign about Hong Kong protesters. Twitter deleted 936 accounts and said it would ban state-backed media from promoting tweets after China Daily and other state-backed publications placed ads on its service that suggested the protesters were sponsored by Western interests and were becoming violent.“These accounts were deliberately and specifically attempting to sow political discord in Hong Kong, including undermining the legitimacy and political positions of the protest movement on the ground,” Twitter said in a statement. “Based on our intensive investigations, we have reliable evidence to support that this is a coordinated state-backed operation.”The removal of the China-backed accounts signal an escalation in the global disinformation wars. In 2015 and 2016, Russia pioneered disinformation techniques when it used Facebook, Twitter, Instagram and other social media to disseminate inflammatory messages intended to divide Americans in the 2016 presidential election. Since then, governments in many other countries — including Bangladesh, Iran and Venezuela — have also used Facebook and Twitter to sow discord at home and abroad.China has been less visible about using Facebook and Twitter to spread disinformation, researchers said. Both services are blocked in the country and people instead spend time on homegrown social media services and messaging apps like WeChat and Weibo. The Communist Party has largely not needed Western social media because it already exerts tight control over state-backed media and content inside the country’s so-called Great Firewall.But the recent Facebook and Twitter activity over the Hong Kong protests suggests that Beijing will use those services to spread its messaging outside the Great Firewall when it deems it necessary. Facebook and Twitter are not blocked in Hong Kong and are widely used. Some 4.7 million people in the territory log into Facebook at least once a month, while 448,000 use Twitter, according to eMarketer.China may have previously dipped its toe into using Western social media to destabilize elections in Taiwan starting in 2018, said Graham Brookie, the director of the Atlantic Council’s Digital Forensic Research Lab. He added that China’s disinformation campaigns tended to be less wide-ranging than Russia’s and hew tightly to a set of foreign policy goals, including tying Taiwan and Hong Kong closely to the mainland.“The Chinese have been watching what works and what doesn’t in the context of Russian information operations,” Mr. Brookie said. “China is testing the waters on what is effective and what they can get away with.”The disinformation campaign against the Hong Kong protests also stands out because many of the tweets were written in English and targeted a global audience.ImageScreenshots from fake accounts on Facebook involved in coordinated inauthentic behavior. The translation in final panel is: Hong Kong cockroach chaos.Creditvia FacebookImageA screenshot via Facebook of a fake account involved in coordinated inauthentic behavior. It says “Protesters. ISIS fighters. What’s the difference?”Creditvia FacebookImageA screenshot via Twitter of a fake account that Twitter said originated within China as a state-backed operation to sow political discord.Creditvia Twitter“I think they are trying to reach English speakers in Hong Kong and the larger audience of people watching,” said Adam Segal, director of the Digital and Cyberspace Policy Program at the Council on Foreign Relations.Many of the Twitter accounts involved in the Hong Kong campaign were recently created and did not have large followings, said Renee DiResta, the Mozilla Fellow in media, misinformation and trust. “It reveals almost a lack of sophistication in terms of how China is thinking about developing this outward capability,” she said.Officials at the Chinese embassy in Washington did not respond to a request for comment.Since the Hong Kong protests began in June to demonstrate against an extradition bill, the movement has evolved. On Sunday, the city was the scene of another huge march, which organizers said brought out 1.7 million people — or nearly one in four of the total population of around seven million — who walked in defiance of a police ban.China has aggressively stoked anti-Western and nationalist sentiments around the protests and begun branding the demonstrations as a prelude to terrorism. Hong Kong workers and billionaires have also jumped into the fray. In ads in several local newspapers, the tycoon Li Ka Shing recently pushed readers to “love China, love Hong Kong, love yourself” and “overcome anger with love.” And employees at accounting firms in Hong Kong have taken out ads supporting the demonstrations.Twitter said it discovered the China-linked accounts during an investigation that spanned several weeks. The accounts worked together to blast out messages that could undermine the Hong Kong protests, with some of the accounts using Twitter from specific unblocked internet protocol addresses, the company said. Since Twitter is not permitted in China, an unblocked IP address is typically a telltale sign that the accounts were approved by the government, researchers said.Although most of the disinformation was spread by the 936 accounts that Twitter eventually took down, the company said it also uncovered a broader group of 200,000 accounts. Those sprang up once Twitter began banning some of the earlier accounts; the majority of them were stopped before they were able to spread more messages, the company said.Among the messages that the China-linked accounts posted was a tweet suggesting protesters were “taking benefits from the bad guys.” Another claimed the protesters had “ulterior motives.”Twitter said it would give state-sponsored media a month to leave its advertising platform before its ban on promoted tweets from state-backed media goes into effect. The ban expands on the company’s efforts to combat Russian disinformation. In 2017, Twitter banned RT and Sputnik, international news outlets supported by the Kremlin, from advertising on its service.Unlike Twitter, Facebook said it would not ban ads from state-owned media. The company said it would “continue to look at our policies as they relate to state-owned media” and also closely examine ads that were flagged to it so it could determine if they violated its policies. China’s government, through its state media agencies, has been a big buyer of ads on Facebook, The New York Times has reported.Twitter alerted Facebook to the coordinated China-linked social media activity in July, a Facebook spokeswoman said. The Facebook pages that the company identified in its own investigation typically posed as news organizations and were followed by about 15,500 accounts. Most of the pages were created in 2018 or later, with the earliest page flagged in the investigation set up in 2016. While the people behind the activity tried to hide their identities, Facebook said it “found links to individuals associated with the Chinese government.”“Protesters, ISIS fighters,” one of the Facebook posts said, “What’s the difference?” Another called the protesters “Hong Kong cockroaches.”Follow Kate Conger on Twitter: @kateconger.Mike Isaac contributed reporting from San Francisco and Tiffany Hsu from New York. Interested in All Things Tech? Get the Bits newsletter for the latest from Silicon Valley. And sign up for the personal tech newsletter for advice and tips on the technology changing how you live.A version of this article appears in print on , Section A, Page 1 of the New York edition with the headline: Social Media: China’s Disinformation Bullhorn. Order Reprints | Today’s Paper | SubscribeWith Troop Buildup, China Sends a Stark Warning to Hong KongAug 19, 2019ImageChina Is Waging a Disinformation War Against Hong Kong ProtestersAug 13, 2019ImageIn Hong Kong Protests, Faces Become WeaponsJul 26, 2019ImageAdvertisementhome pageworldU.S.politicsElection 2020New Yorkbusinesstechscienceclimatesportsobituariesthe upshotEspañol中文网today's papercorrectionstoday's opinionop-ed columnistseditorialsop-ed Contributorsletterssunday reviewvideo: opiniontoday's artsart & designbooksdancemoviesmusicPop Culturetelevisiontheaterwatchingvideo: artsautomobilesCookingcrosswordeducationfoodhealthjobsmagazineparentingreal estatestylet magazinetravelloveReader CenterWirecutterLive EventsThe Learning Networktools & servicesN.Y.C. events guidemultimediaphotographyvideoNewslettersNYT storetimes journeysmanage my accountnewshome pageworldU.S.politicsElection 2020New Yorkbusinesstechscienceclimatesportsobituariesthe upshotEspañol中文网today's papercorrectionsopiniontoday's opinionop-ed columnistseditorialsop-ed Contributorsletterssunday reviewvideo: opinionartstoday's artsart & designbooksdancemoviesmusicPop Culturetelevisiontheaterwatchingvideo: artslivingautomobilesCookingcrosswordeducationfoodhealthjobsmagazineparentingreal estatestylet magazinetravellovemoreReader CenterWirecutterLive EventsThe Learning Networktools & servicesN.Y.C. events guidemultimediaphotographyvideoNewslettersNYT storetimes journeysmanage my accountSubscribehome deliverydigital subscriptionsCrosswordCookingemail newsletterscorporate subscriptionseducation ratemobile applicationsreplica editionEspañol中文网\n"
     ],
     "output_type": "stream"
    }
   ],
   "source": [
    "print(i['text'])\n"
   ],
   "metadata": {
    "collapsed": false,
    "pycharm": {
     "name": "#%%\n",
     "is_executing": false
    }
   }
  },
  {
   "cell_type": "code",
   "execution_count": 27,
   "outputs": [
    {
     "name": "stdout",
     "text": [
      "https://www.independent.co.uk/voices/boris-johnson-angela-merkel-brexit-berlin-backstop-irish-border-macron-a9073881.html\n"
     ],
     "output_type": "stream"
    }
   ],
   "source": [
    "def make_legal(headline:str)->str:\n",
    "    headline=headline.replace('\\'','\\\"')\n",
    "    return headline\n",
    "txt = \"https://www.independent.co.uk/voices/boris-johnson-angela-merkel-brexit-berlin-backstop-irish-border-macron-a9073881.htmlthe\"\n",
    "print(txt[:-3])"
   ],
   "metadata": {
    "collapsed": false,
    "pycharm": {
     "name": "#%%\n",
     "is_executing": false
    }
   }
  }
 ],
 "metadata": {
  "kernelspec": {
   "name": "python3",
   "language": "python",
   "display_name": "Python 3"
  },
  "language_info": {
   "codemirror_mode": {
    "name": "ipython",
    "version": 2
   },
   "file_extension": ".py",
   "mimetype": "text/x-python",
   "name": "python",
   "nbconvert_exporter": "python",
   "pygments_lexer": "ipython2",
   "version": "2.7.6"
  },
  "pycharm": {
   "stem_cell": {
    "cell_type": "raw",
    "source": [],
    "metadata": {
     "collapsed": false
    }
   }
  }
 },
 "nbformat": 4,
 "nbformat_minor": 0
}