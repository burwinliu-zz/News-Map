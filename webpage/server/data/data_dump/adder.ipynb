{
 "cells": [
  {
   "cell_type": "code",
   "execution_count": 3,
   "metadata": {
    "collapsed": true
   },
   "outputs": [
    {
     "data": {
      "text/plain": [
       "['.git',\n '.gitignore',\n '.idea',\n 'docs',\n 'LICENSE.md',\n 'main.py',\n 'README.md',\n 'webpage']"
      ]
     },
     "execution_count": 3,
     "metadata": {},
     "output_type": "execute_result"
    }
   ],
   "source": [
    "import json\n",
    "import os\n",
    "os.listdir('.')"
   ]
  },
  {
   "cell_type": "code",
   "execution_count": 33,
   "metadata": {},
   "outputs": [
    {
     "name": "stdout",
     "output_type": "stream",
     "text": [
      "Successes:199Failures:10\n"
     ]
    }
   ],
   "source": [
    "countrylist= []\n",
    "informal = []\n",
    "with open('webpage/data/data_dump/country-list.json')as fp:\n",
    "    countrylist = json.load(fp)\n",
    "with open('webpage/data/data_dump/informalnaming.json') as fp:\n",
    "    informal = json.load(fp)\n",
    "counter = 0\n",
    "count2 = 0\n",
    "for infc in informal:\n",
    "    success = False\n",
    "    for cl in countrylist:\n",
    "        if cl['country'] == infc['nicknames'][0]:\n",
    "            infc['capital'] = cl['capital']\n",
    "            infc['nicknames'].append(cl['capital'])\n",
    "            counter +=1\n",
    "            success=True\n",
    "            break\n",
    "    if not success:\n",
    "        count2 += 1\n",
    "print(\"Successes:{}Failures:{}\".format(str(counter),str(count2)))\n",
    "with open('webpage/data/data_dump/informalnaming.json','w+') as fp:\n",
    "    json.dump(informal,fp,indent=2, sort_keys=True,ensure_ascii=False)"
   ]
  },
  {
   "cell_type": "code",
   "execution_count": 19,
   "metadata": {},
   "outputs": [],
   "source": [
    "\n"
   ]
  }
 ],
 "metadata": {
  "kernelspec": {
   "display_name": "Python 2",
   "language": "python",
   "name": "python2"
  },
  "language_info": {
   "codemirror_mode": {
    "name": "ipython",
    "version": 2
   },
   "file_extension": ".py",
   "mimetype": "text/x-python",
   "name": "python",
   "nbconvert_exporter": "python",
   "pygments_lexer": "ipython2",
   "version": "2.7.6"
  }
 },
 "nbformat": 4,
 "nbformat_minor": 0
}
