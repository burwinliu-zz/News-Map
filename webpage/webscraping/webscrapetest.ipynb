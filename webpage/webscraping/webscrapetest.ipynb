{
 "cells": [
  {
   "cell_type": "code",
   "execution_count": 35,
   "metadata": {
    "collapsed": true
   },
   "outputs": [],
   "source": [
    "import six.moves.urllib as urllib\n",
    "from bs4 import BeautifulSoup,SoupStrainer\n",
    "from tqdm import tqdm\n",
    "import html5lib\n",
    "import re\n",
    "import httplib2"
   ]
  },
  {
   "cell_type": "code",
   "execution_count": 2,
   "metadata": {},
   "outputs": [],
   "source": [
    "link = 'https://news.google.com/topics/CAAqJggKIiBDQkFTRWdvSUwyMHZNRGx1YlY4U0FtVnVHZ0pWVXlnQVAB?hl=en-US&gl=US&ceid=US%3Aen'\n",
    "zelda = urllib.request.urlopen(link)\n",
    "information = zelda.read()\n",
    "soup = BeautifulSoup(information, 'html.parser')"
   ]
  },
  {
   "cell_type": "code",
   "execution_count": 4,
   "metadata": {
    "collapsed": true
   },
   "outputs": [
    {
     "name": "stdout",
     "output_type": "stream",
     "text": [
      "<title>Google News - World - Latest</title>\n"
     ]
    }
   ],
   "source": [
    "print(soup.head.title)"
   ]
  },
  {
   "cell_type": "code",
   "execution_count": 11,
   "metadata": {
    "collapsed": true
   },
   "outputs": [],
   "source": [
    "triforce = []\n",
    "def valid(sep):\n",
    "    link = sep[2]\n",
    "    deadlinks=['google','gstatic','ggpht','schema','youtube','blogger','apple']\n",
    "    for dink in deadlinks:\n",
    "        if link.find(dink) >= 0:\n",
    "            return False\n",
    "    if len(sep[3]) == 0:\n",
    "        return False\n",
    "    if sep[0].find('amp')>=0:\n",
    "        return False\n",
    "    return True\n",
    "    \n",
    "for c,gannon in enumerate(re.findall(\"(https://(([a-z0-9]+\\.)+[a-z]+)((/[^(/\\s\\\"<>)]+)*))\", str(information))):#need to change indecies around for an optional (www)\n",
    "    if valid(gannon):\n",
    "        triforce.append({'full': gannon[0], 'site': gannon[2][:-1], 'information': gannon[3]})"
   ]
  },
  {
   "cell_type": "code",
   "execution_count": 30,
   "metadata": {},
   "outputs": [
    {
     "name": "stdout",
     "output_type": "stream",
     "text": [
      "262\n"
     ]
    }
   ],
   "source": [
    "def trim(tf):\n",
    "    rehold = []\n",
    "    counter = 0\n",
    "    def check(site):\n",
    "        target = site['information']\n",
    "        return target.find('.jpg') >= 0 or target.find('jpeg') >= 0 or target.find('.mp4') >= 0 or target.find(\n",
    "            '/image') >= 0 or target.find('.JPG') >= 0 or site['full'].find('images.wsj') >= 0 or site['full'].find('cbsnews1.cbsistatic')>=0\n",
    "    last = None\n",
    "    for dol in tf:\n",
    "\n",
    "        if last is None:\n",
    "\n",
    "            last = dol\n",
    "        else:\n",
    "            if check(dol):\n",
    "                last['pic'] = dol['full']\n",
    "            elif dol['site'] == 'reutersmedia':\n",
    "                continue  #do nothing, ive got no idea why there is a 1x1 image here.\n",
    "            elif last['full'] == dol['full']:\n",
    "                counter += 1\n",
    "            else:\n",
    "\n",
    "                rehold.append(dol)\n",
    "                last = dol\n",
    "    return rehold, counter\n",
    "\n",
    "newforce, etx = trim(triforce)\n",
    "print(etx)\n"
   ]
  },
  {
   "cell_type": "code",
   "execution_count": 42,
   "metadata": {
    "collapsed": true
   },
   "outputs": [
    {
     "name": "stdout",
     "output_type": "stream",
     "text": [
      "website: https://www.cnn.com/2019/07/29/americas/brazil-prison-riots-intl/index.htmlnumber: 0"
     ]
    },
    {
     "name": "stdout",
     "output_type": "stream",
     "text": [
      "\n"
     ]
    },
    {
     "name": "stdout",
     "output_type": "stream",
     "text": [
      "<title>Prison riot in Brazil leaves 16 inmates decapitated and dozens more killed - CNN</title>"
     ]
    },
    {
     "name": "stdout",
     "output_type": "stream",
     "text": [
      "\n"
     ]
    },
    {
     "name": "stdout",
     "output_type": "stream",
     "text": [
      "website: https://www.nytimes.com/2019/07/29/world/americas/brazil-prison-dead.htmlnumber: 1"
     ]
    },
    {
     "name": "stdout",
     "output_type": "stream",
     "text": [
      "\n"
     ]
    },
    {
     "name": "stdout",
     "output_type": "stream",
     "text": [
      "<title data-rh=\"true\">Prison Riot Leaves 57 Dead in Northern Brazil - The New York Times</title>"
     ]
    },
    {
     "name": "stdout",
     "output_type": "stream",
     "text": [
      "\n"
     ]
    },
    {
     "name": "stdout",
     "output_type": "stream",
     "text": [
      "website: https://www.washingtonpost.com/world/the_americas/fifty-two-inmates-killed-in-brazil-prison-riot-16-decapitated/2019/07/29/90375c60-b21f-11e9-acc8-1d847bacca73_story.htmlnumber: 2"
     ]
    },
    {
     "name": "stdout",
     "output_type": "stream",
     "text": [
      "\n"
     ]
    },
    {
     "name": "stdout",
     "output_type": "stream",
     "text": [
      "<title>Brazil prison riot: 57 inmates dead in Altamira jail - The Washington Post</title>"
     ]
    },
    {
     "name": "stdout",
     "output_type": "stream",
     "text": [
      "\n"
     ]
    },
    {
     "name": "stdout",
     "output_type": "stream",
     "text": [
      "website: https://www.foxnews.com/world/brazil-prison-riot-inmates-decapitatednumber: 3"
     ]
    },
    {
     "name": "stdout",
     "output_type": "stream",
     "text": [
      "\n"
     ]
    },
    {
     "name": "stdout",
     "output_type": "stream",
     "text": [
      "<title data-n-head=\"true\">Brazil prison riot leaves at least 57 dead -- including 16 decapitated | Fox News</title>"
     ]
    },
    {
     "name": "stdout",
     "output_type": "stream",
     "text": [
      "\n"
     ]
    },
    {
     "name": "stdout",
     "output_type": "stream",
     "text": [
      "website: https://www.reuters.com/article/us-britain-eu/brexit-means-a-better-deal-for-farmers-pm-johnson-tells-wales-idUSKCN1UO29Lnumber: 4"
     ]
    },
    {
     "name": "stdout",
     "output_type": "stream",
     "text": [
      "\n"
     ]
    },
    {
     "name": "stdout",
     "output_type": "stream",
     "text": [
      "<title>\n                Brexit means a 'better deal' for farmers, PM Johnson tells Wales - Reuters</title>"
     ]
    },
    {
     "name": "stdout",
     "output_type": "stream",
     "text": [
      "\n"
     ]
    },
    {
     "name": "stdout",
     "output_type": "stream",
     "text": [
      "website: https://www.washingtonpost.com/world/europe/could-boris-johnsons-no-deal-brexit-crack-up-the-united-kingdom/2019/07/29/b871ebac-b1e6-11e9-acc8-1d847bacca73_story.htmlnumber: 5"
     ]
    },
    {
     "name": "stdout",
     "output_type": "stream",
     "text": [
      "\n"
     ]
    },
    {
     "name": "stdout",
     "output_type": "stream",
     "text": [
      "<title>Could Boris Johnson’s ‘no-deal’ Brexit break up the United Kingdom? - The Washington Post</title>"
     ]
    },
    {
     "name": "stdout",
     "output_type": "stream",
     "text": [
      "\n"
     ]
    },
    {
     "name": "stdout",
     "output_type": "stream",
     "text": [
      "website: https://www.theguardian.com/commentisfree/2019/jul/29/the-guardian-view-on-boris-johnson-and-scotland-state-of-disunionnumber: 6"
     ]
    },
    {
     "name": "stdout",
     "output_type": "stream",
     "text": [
      "\n"
     ]
    },
    {
     "name": "stdout",
     "output_type": "stream",
     "text": [
      "<title>The Guardian view on Boris Johnson and Scotland: state of disunion | Editorial | Opinion | The Guardian</title>"
     ]
    },
    {
     "name": "stdout",
     "output_type": "stream",
     "text": [
      "\n"
     ]
    },
    {
     "name": "stdout",
     "output_type": "stream",
     "text": [
      "failed on {'full': 'https://www.independent.co.uk/voices/editorials/boris-johnson-united-kingdom-no-deal-brexit-scotland-northern-ireland-a9025956.html', 'site': 'co', 'information': '/voices/editorials/boris-johnson-united-kingdom-no-deal-brexit-scotland-northern-ireland-a9025956.html'}"
     ]
    },
    {
     "name": "stdout",
     "output_type": "stream",
     "text": [
      "\n"
     ]
    },
    {
     "name": "stdout",
     "output_type": "stream",
     "text": [
      "website: https://www.aljazeera.com/news/2019/07/alexei-navalny-rattle-kremlin-190730011624727.htmlnumber: 8"
     ]
    },
    {
     "name": "stdout",
     "output_type": "stream",
     "text": [
      "\n"
     ]
    },
    {
     "name": "stdout",
     "output_type": "stream",
     "text": [
      "<title>Why does Alexei Navalny rattle the Kremlin? |  News | Al Jazeera</title>"
     ]
    },
    {
     "name": "stdout",
     "output_type": "stream",
     "text": [
      "\n"
     ]
    },
    {
     "name": "stdout",
     "output_type": "stream",
     "text": [
      "website: https://www.foxnews.com/world/russian-opposition-leader-may-have-been-poisoned-doctor-saysnumber: 9"
     ]
    },
    {
     "name": "stdout",
     "output_type": "stream",
     "text": [
      "\n"
     ]
    },
    {
     "name": "stdout",
     "output_type": "stream",
     "text": [
      "<title data-n-head=\"true\">Russian opposition leader may have been poisoned, doctor says | Fox News</title>"
     ]
    },
    {
     "name": "stdout",
     "output_type": "stream",
     "text": [
      "\n"
     ]
    },
    {
     "name": "stdout",
     "output_type": "stream",
     "text": [
      "website: https://www.npr.org/2019/07/29/746401239/putin-opposition-leader-jailed-again-after-suspected-poisoningnumber: 10"
     ]
    },
    {
     "name": "stdout",
     "output_type": "stream",
     "text": [
      "\n"
     ]
    },
    {
     "name": "stdout",
     "output_type": "stream",
     "text": [
      "<title>Putin Opponent Alexei Navany Put Back In Jail Despite Possible Poisoning  : NPR</title>"
     ]
    },
    {
     "name": "stdout",
     "output_type": "stream",
     "text": [
      "\n"
     ]
    },
    {
     "name": "stdout",
     "output_type": "stream",
     "text": [
      "website: https://www.bloomberg.com/opinion/articles/2019-07-29/moscow-protests-vladimir-putin-s-suppression-potentialnumber: 11"
     ]
    },
    {
     "name": "stdout",
     "output_type": "stream",
     "text": [
      "\n"
     ]
    },
    {
     "name": "stdout",
     "output_type": "stream",
     "text": [
      "<title>Bloomberg - Are you a robot?</title>"
     ]
    },
    {
     "name": "stdout",
     "output_type": "stream",
     "text": [
      "\n"
     ]
    },
    {
     "name": "stdout",
     "output_type": "stream",
     "text": [
      "website: https://www.theguardian.com/commentisfree/2019/jul/29/putin-protesters-alexei-navalny-arrest-presidencynumber: 12"
     ]
    },
    {
     "name": "stdout",
     "output_type": "stream",
     "text": [
      "\n"
     ]
    },
    {
     "name": "stdout",
     "output_type": "stream",
     "text": [
      "<title>Putin’s treatment of protesters and rivals shows weakness, not strength | Simon Tisdall | Opinion | The Guardian</title>"
     ]
    },
    {
     "name": "stdout",
     "output_type": "stream",
     "text": [
      "\n"
     ]
    },
    {
     "name": "stdout",
     "output_type": "stream",
     "text": [
      "website: https://www.cnn.com/2019/07/28/investing/asian-market-trade-talks-fed/index.htmlnumber: 13"
     ]
    },
    {
     "name": "stdout",
     "output_type": "stream",
     "text": [
      "\n"
     ]
    },
    {
     "name": "stdout",
     "output_type": "stream",
     "text": [
      "<title>Asian market: Hong Kong stocks slide as fears over protests grow. Real estate hardest hit - CNN</title>"
     ]
    },
    {
     "name": "stdout",
     "output_type": "stream",
     "text": [
      "\n"
     ]
    },
    {
     "name": "stdout",
     "output_type": "stream",
     "text": [
      "website: https://www.bbc.com/news/world-asia-49160416number: 14"
     ]
    },
    {
     "name": "stdout",
     "output_type": "stream",
     "text": [
      "\n"
     ]
    },
    {
     "name": "stdout",
     "output_type": "stream",
     "text": [
      "<title>Pakistan plane: Army aircraft crashes into residential area, killing 18 - BBC News</title>"
     ]
    },
    {
     "name": "stdout",
     "output_type": "stream",
     "text": [
      "\n"
     ]
    },
    {
     "name": "stdout",
     "output_type": "stream",
     "text": [
      "website: https://www.reuters.com/article/us-pakistan-crash/pakistani-military-plane-crashes-into-garrison-city-kills-17-idUSKCN1UP01Mnumber: 15"
     ]
    },
    {
     "name": "stdout",
     "output_type": "stream",
     "text": [
      "\n"
     ]
    },
    {
     "name": "stdout",
     "output_type": "stream",
     "text": [
      "<title>\n                Pakistani military plane crashes near garrison city, kills 17 - Reuters</title>"
     ]
    },
    {
     "name": "stdout",
     "output_type": "stream",
     "text": [
      "\n"
     ]
    },
    {
     "name": "stdout",
     "output_type": "stream",
     "text": [
      "website: https://www.nytimes.com/2019/07/29/world/asia/pakistan-plane-crash-army.htmlnumber: 16"
     ]
    },
    {
     "name": "stdout",
     "output_type": "stream",
     "text": [
      "\n"
     ]
    },
    {
     "name": "stdout",
     "output_type": "stream",
     "text": [
      "<title data-rh=\"true\">Pakistani Military Plane Crashes, Killing at Least 18 - The New York Times</title>"
     ]
    },
    {
     "name": "stdout",
     "output_type": "stream",
     "text": [
      "\n"
     ]
    },
    {
     "name": "stdout",
     "output_type": "stream",
     "text": [
      "website: https://www.cnn.com/2019/07/30/asia/pakistan-military-plane-crash-intl-hnk/index.htmlnumber: 17"
     ]
    },
    {
     "name": "stdout",
     "output_type": "stream",
     "text": [
      "\n"
     ]
    },
    {
     "name": "stdout",
     "output_type": "stream",
     "text": [
      "<title>Pakistan plane crash: At least 17 dead in major city - CNN</title>"
     ]
    },
    {
     "name": "stdout",
     "output_type": "stream",
     "text": [
      "\n"
     ]
    },
    {
     "name": "stdout",
     "output_type": "stream",
     "text": [
      "website: https://www.aljazeera.com/news/2019/07/killed-pakistani-army-plane-crashes-rawalpindi-190730032339434.htmlnumber: 18"
     ]
    },
    {
     "name": "stdout",
     "output_type": "stream",
     "text": [
      "\n"
     ]
    },
    {
     "name": "stdout",
     "output_type": "stream",
     "text": [
      "<title>Pakistan plane crash kills over a dozen near Rawalpindi |  News | Al Jazeera</title>"
     ]
    },
    {
     "name": "stdout",
     "output_type": "stream",
     "text": [
      "\n"
     ]
    },
    {
     "name": "stdout",
     "output_type": "stream",
     "text": [
      "website: https://www.cnn.com/2019/07/29/africa/ethiopia-plants-350-million-trees-intl-hnk/index.htmlnumber: 19"
     ]
    },
    {
     "name": "stdout",
     "output_type": "stream",
     "text": [
      "\n"
     ]
    },
    {
     "name": "stdout",
     "output_type": "stream",
     "text": [
      "<title>Ethiopia plants more than 350 million trees in 12 hours - CNN</title>"
     ]
    },
    {
     "name": "stdout",
     "output_type": "stream",
     "text": [
      "\n"
     ]
    },
    {
     "name": "stdout",
     "output_type": "stream",
     "text": [
      "website: https://www.cbsnews.com/news/us-central-command-confirms-2-service-members-killed-in-afghanistan-today-2019-07-29number: 20"
     ]
    },
    {
     "name": "stdout",
     "output_type": "stream",
     "text": [
      "\n"
     ]
    },
    {
     "name": "stdout",
     "output_type": "stream",
     "text": [
      "<title>    \n            Afghanistan War: U.S. Central Command confirms 2 service members killed in Afghanistan - CBS News\n    </title>"
     ]
    },
    {
     "name": "stdout",
     "output_type": "stream",
     "text": [
      "\n"
     ]
    },
    {
     "name": "stdout",
     "output_type": "stream",
     "text": [
      "website: https://www.foxnews.com/world/2-us-troops-killed-in-combat-in-central-afghanistan-officials-saynumber: 21"
     ]
    },
    {
     "name": "stdout",
     "output_type": "stream",
     "text": [
      "\n"
     ]
    },
    {
     "name": "stdout",
     "output_type": "stream",
     "text": [
      "<title data-n-head=\"true\">2 US troops killed in Afghanistan in apparent insider attack, official says | Fox News</title>"
     ]
    },
    {
     "name": "stdout",
     "output_type": "stream",
     "text": [
      "\n"
     ]
    },
    {
     "name": "stdout",
     "output_type": "stream",
     "text": [
      "website: https://www.bbc.com/news/world-us-canada-49157007number: 22"
     ]
    },
    {
     "name": "stdout",
     "output_type": "stream",
     "text": [
      "\n"
     ]
    },
    {
     "name": "stdout",
     "output_type": "stream",
     "text": [
      "<title>Afghan 'insider attack' kills two US soldiers in Kandahar - BBC News</title>"
     ]
    },
    {
     "name": "stdout",
     "output_type": "stream",
     "text": [
      "\n"
     ]
    },
    {
     "name": "stdout",
     "output_type": "stream",
     "text": [
      "website: https://www.washingtonpost.com/world/national-security/trump-directed-aides-to-reduce-us-troops-in-afghanistan-by-2020-election-pompeo-says/2019/07/29/5546df7d-d2fd-443f-ae05-e78bab070bad_story.htmlnumber: 23"
     ]
    },
    {
     "name": "stdout",
     "output_type": "stream",
     "text": [
      "\n"
     ]
    },
    {
     "name": "stdout",
     "output_type": "stream",
     "text": [
      "<title>Trump directed aides to reduce U.S. troops in Afghanistan by 2020 election, Pompeo says - The Washington Post</title>"
     ]
    },
    {
     "name": "stdout",
     "output_type": "stream",
     "text": [
      "\n"
     ]
    },
    {
     "name": "stdout",
     "output_type": "stream",
     "text": [
      "website: https://www.cnn.com/2019/07/29/politics/us-service-members-killed-afghanistan/index.htmlnumber: 24"
     ]
    },
    {
     "name": "stdout",
     "output_type": "stream",
     "text": [
      "\n"
     ]
    },
    {
     "name": "stdout",
     "output_type": "stream",
     "text": [
      "<title>Two US service members killed in Afghanistan as US eyes troop reduction by 2020 - CNNPolitics</title>"
     ]
    },
    {
     "name": "stdout",
     "output_type": "stream",
     "text": [
      "\n"
     ]
    },
    {
     "name": "stdout",
     "output_type": "stream",
     "text": [
      "website: https://www.cnn.com/2019/07/30/europe/poland-income-tax-youths-intl/index.htmlnumber: 25"
     ]
    },
    {
     "name": "stdout",
     "output_type": "stream",
     "text": [
      "\n"
     ]
    },
    {
     "name": "stdout",
     "output_type": "stream",
     "text": [
      "<title>No country for old men? Poland scraps income tax for youngsters - CNN</title>"
     ]
    },
    {
     "name": "stdout",
     "output_type": "stream",
     "text": [
      "\n"
     ]
    },
    {
     "name": "stdout",
     "output_type": "stream",
     "text": [
      "failed on {'full': 'https://www.thedailybeast.com/americans-finnegan-elder-and-gabe-natale-hjorth-jailed-for-stabbing-italian-cop-turn-on-each-other', 'site': 'thedailybeast', 'information': '/americans-finnegan-elder-and-gabe-natale-hjorth-jailed-for-stabbing-italian-cop-turn-on-each-other', 'pic': 'https://img.thedailybeast.com/image/upload/c_crop,d_placeholder_euli9k,h_340,w_604,x_0,y_0/dpr_2.0/c_limit,w_585/fl_lossy,q_auto/190729-Nadeau-Rome_zf6h63'}"
     ]
    },
    {
     "name": "stdout",
     "output_type": "stream",
     "text": [
      "\n"
     ]
    },
    {
     "name": "stdout",
     "output_type": "stream",
     "text": [
      "website: https://www.nbcnews.com/politics/national-security/intel-officials-worry-trump-s-pick-top-spy-will-politicize-n1035821number: 27"
     ]
    },
    {
     "name": "stdout",
     "output_type": "stream",
     "text": [
      "\n"
     ]
    },
    {
     "name": "stdout",
     "output_type": "stream",
     "text": [
      "<title data-rh=\"true\">Intel officials worry Trump's pick for top spy will politicize the job</title>"
     ]
    },
    {
     "name": "stdout",
     "output_type": "stream",
     "text": [
      "\n"
     ]
    },
    {
     "name": "stdout",
     "output_type": "stream",
     "text": [
      "website: https://www.businessinsider.com/dni-dan-coats-quit-white-house-suppressed-russia-warnings-nyt-2019-7number: 28"
     ]
    },
    {
     "name": "stdout",
     "output_type": "stream",
     "text": [
      "\n"
     ]
    },
    {
     "name": "stdout",
     "output_type": "stream",
     "text": [
      "<title>    DNI Dan Coats quit after White House suppressed Russia warnings: NYT - Business Insider\n</title>"
     ]
    },
    {
     "name": "stdout",
     "output_type": "stream",
     "text": [
      "\n"
     ]
    },
    {
     "name": "stdout",
     "output_type": "stream",
     "text": [
      "failed on {'full': 'https://www.newsweek.com/fox-news-analyst-trump-locking-down-intelligence-community-1451620', 'site': 'newsweek', 'information': '/fox-news-analyst-trump-locking-down-intelligence-community-1451620', 'pic': 'https://d.newsweek.com/en/full/1515724/john-ratcliffe.jpg'}"
     ]
    },
    {
     "name": "stdout",
     "output_type": "stream",
     "text": [
      "\n"
     ]
    },
    {
     "name": "stdout",
     "output_type": "stream",
     "text": [
      "website: https://www.foxnews.com/opinion/rebecca-grant-whats-behind-trumps-selection-of-john-ratcliffe-as-director-of-national-intelligencenumber: 30"
     ]
    },
    {
     "name": "stdout",
     "output_type": "stream",
     "text": [
      "\n"
     ]
    },
    {
     "name": "stdout",
     "output_type": "stream",
     "text": [
      "<title data-n-head=\"true\">Rebecca Grant: What’s behind Trump’s selection of John Ratcliffe as director of national intelligence? | Fox News</title>"
     ]
    },
    {
     "name": "stdout",
     "output_type": "stream",
     "text": [
      "\n"
     ]
    },
    {
     "name": "stdout",
     "output_type": "stream",
     "text": [
      "website: https://www.washingtonpost.com/opinions/2019/07/29/dan-coats-is-out-should-senate-confirm-john-ratcliffenumber: 31"
     ]
    },
    {
     "name": "stdout",
     "output_type": "stream",
     "text": [
      "\n"
     ]
    },
    {
     "name": "stdout",
     "output_type": "stream",
     "text": [
      "<title>Dan Coats is out. Should the Senate confirm John Ratcliffe? - The Washington Post</title>"
     ]
    },
    {
     "name": "stdout",
     "output_type": "stream",
     "text": [
      "\n"
     ]
    },
    {
     "name": "stdout",
     "output_type": "stream",
     "text": [
      "website: https://www.nytimes.com/2019/07/29/us/politics/trump-adviser-said-to-have-pursued-saudi-nuclear-deal-as-he-sought-administration-role.htmlnumber: 32"
     ]
    },
    {
     "name": "stdout",
     "output_type": "stream",
     "text": [
      "\n"
     ]
    },
    {
     "name": "stdout",
     "output_type": "stream",
     "text": [
      "<title data-rh=\"true\">Trump Adviser Said to Have Pursued Saudi Nuclear Deal as He Sought Administration Role - The New York Times</title>"
     ]
    },
    {
     "name": "stdout",
     "output_type": "stream",
     "text": [
      "\n"
     ]
    },
    {
     "name": "stdout",
     "output_type": "stream",
     "text": [
      "website: https://www.cnbc.com/2019/07/29/senate-fails-to-override-trump-veto-stopping-saudi-weapons-sales.htmlnumber: 33"
     ]
    },
    {
     "name": "stdout",
     "output_type": "stream",
     "text": [
      "\n"
     ]
    },
    {
     "name": "stdout",
     "output_type": "stream",
     "text": [
      "<title itemprop=\"name\">Senate fails to override Trump veto stopping Saudi weapons sales</title>"
     ]
    },
    {
     "name": "stdout",
     "output_type": "stream",
     "text": [
      "\n"
     ]
    },
    {
     "name": "stdout",
     "output_type": "stream",
     "text": [
      "failed on {'full': 'https://abcnews.go.com/Politics/house-dems-blast-trump-insider-report-allege-profit/story?id\\\\\\\\u003d64631731', 'site': 'go', 'information': '/Politics/house-dems-blast-trump-insider-report-allege-profit/story?id\\\\\\\\u003d64631731'}"
     ]
    },
    {
     "name": "stdout",
     "output_type": "stream",
     "text": [
      "\n"
     ]
    },
    {
     "name": "stdout",
     "output_type": "stream",
     "text": [
      "website: https://www.cnn.com/2019/07/29/politics/senate-veto-override-attempt-arms-sales-saudi-arabia/index.htmlnumber: 35"
     ]
    },
    {
     "name": "stdout",
     "output_type": "stream",
     "text": [
      "\n"
     ]
    },
    {
     "name": "stdout",
     "output_type": "stream",
     "text": [
      "<title>Senate fails to override Trump vetoes on measures to block Saudi arms sales  - CNNPolitics</title>"
     ]
    },
    {
     "name": "stdout",
     "output_type": "stream",
     "text": [
      "\n"
     ]
    },
    {
     "name": "stdout",
     "output_type": "stream",
     "text": [
      "website: https://www.reuters.com/article/us-usa-saudi-nuclearscheme/trump-billionaire-friend-aimed-to-profit-from-mideast-nuclear-deal-democrats-idUSKCN1UO28Gnumber: 36"
     ]
    },
    {
     "name": "stdout",
     "output_type": "stream",
     "text": [
      "\n"
     ]
    },
    {
     "name": "stdout",
     "output_type": "stream",
     "text": [
      "<title>\n                Trump billionaire friend aimed to profit from Mideast nuclear deal: Democrats - Reuters</title>"
     ]
    },
    {
     "name": "stdout",
     "output_type": "stream",
     "text": [
      "\n"
     ]
    },
    {
     "name": "stdout",
     "output_type": "stream",
     "text": [
      "website: https://news.yahoo.com/tip-canada-murder-suspects-turns-empty-police-231513755.htmlnumber: 37"
     ]
    },
    {
     "name": "stdout",
     "output_type": "stream",
     "text": [
      "\n"
     ]
    },
    {
     "name": "stdout",
     "output_type": "stream",
     "text": [
      "<title>Tip on Canada murder suspects turns up empty: police</title>"
     ]
    },
    {
     "name": "stdout",
     "output_type": "stream",
     "text": [
      "\n"
     ]
    },
    {
     "name": "stdout",
     "output_type": "stream",
     "text": [
      "failed on {'full': 'https://www.accuweather.com/en/weather-news/tropical-disturbance-in-caribbean-may-strengthen-prior-to-approaching-florida/70008934', 'site': 'accuweather', 'information': '/en/weather-news/tropical-disturbance-in-caribbean-may-strengthen-prior-to-approaching-florida/70008934'}"
     ]
    },
    {
     "name": "stdout",
     "output_type": "stream",
     "text": [
      "\n"
     ]
    },
    {
     "name": "stdout",
     "output_type": "stream",
     "text": [
      "website: https://www.kplctv.com/2019/07/29/tropics-showing-some-signs-life-this-week-although-nothing-targeting-gulfnumber: 39"
     ]
    },
    {
     "name": "stdout",
     "output_type": "stream",
     "text": [
      "\n"
     ]
    },
    {
     "name": "stdout",
     "output_type": "stream",
     "text": [
      "<title>Tropics showing some signs of life this week, although nothing targeting the Gulf</title>"
     ]
    },
    {
     "name": "stdout",
     "output_type": "stream",
     "text": [
      "\n"
     ]
    },
    {
     "name": "stdout",
     "output_type": "stream",
     "text": [
      "website: https://www.wokv.com/news/local/tropical-wave-eastern-caribbean-expected-enhance-moisture-this-weekend/Bdqwo0dCyHP57KXgRfsPbPnumber: 40"
     ]
    },
    {
     "name": "stdout",
     "output_type": "stream",
     "text": [
      "\n"
     ]
    },
    {
     "name": "stdout",
     "output_type": "stream",
     "text": [
      "<title>Tropical wave in Eastern Caribbean expected to enhance moisture in NE | Depend On WOKV - Jacksonville's News, Weather, and Traffic | www.wokv.com</title>"
     ]
    },
    {
     "name": "stdout",
     "output_type": "stream",
     "text": [
      "\n"
     ]
    },
    {
     "name": "stdout",
     "output_type": "stream",
     "text": [
      "website: https://nypost.com/2019/07/29/8-year-old-boy-killed-after-he-and-mom-are-pushed-in-front-of-train-in-germanynumber: 41"
     ]
    },
    {
     "name": "stdout",
     "output_type": "stream",
     "text": [
      "\n"
     ]
    },
    {
     "name": "stdout",
     "output_type": "stream",
     "text": [
      "<title>8-year-old boy killed after he and mom are pushed in front of train in Germany</title>"
     ]
    },
    {
     "name": "stdout",
     "output_type": "stream",
     "text": [
      "\n"
     ]
    },
    {
     "name": "stdout",
     "output_type": "stream",
     "text": [
      "website: https://www.wsj.com/articles/beijing-presses-hong-kong-government-to-quell-unrest-11564404626number: 42"
     ]
    },
    {
     "name": "stdout",
     "output_type": "stream",
     "text": [
      "\n"
     ]
    },
    {
     "name": "stdout",
     "output_type": "stream",
     "text": [
      "<title>China Endorses Embattled Hong Kong Chief and Police Crackdown on Protesters - WSJ</title>"
     ]
    },
    {
     "name": "stdout",
     "output_type": "stream",
     "text": [
      "\n"
     ]
    },
    {
     "name": "stdout",
     "output_type": "stream",
     "text": [
      "website: https://www.cnbc.com/2019/07/29/violence-is-escalating-in-hong-kong-here-are-three-potential-outcomes.htmlnumber: 43"
     ]
    },
    {
     "name": "stdout",
     "output_type": "stream",
     "text": [
      "\n"
     ]
    },
    {
     "name": "stdout",
     "output_type": "stream",
     "text": [
      "<title itemprop=\"name\">Violence is escalating in Hong Kong. Here are three potential outcomes</title>"
     ]
    },
    {
     "name": "stdout",
     "output_type": "stream",
     "text": [
      "\n"
     ]
    },
    {
     "name": "stdout",
     "output_type": "stream",
     "text": [
      "website: https://thehill.com/opinion/international/455109-hong-kong-protesters-show-wit-and-courage-us-should-toonumber: 44"
     ]
    },
    {
     "name": "stdout",
     "output_type": "stream",
     "text": [
      "\n"
     ]
    },
    {
     "name": "stdout",
     "output_type": "stream",
     "text": [
      "<title>Hong Kong protesters show wit and courage; US should, too | TheHill</title>"
     ]
    },
    {
     "name": "stdout",
     "output_type": "stream",
     "text": [
      "\n"
     ]
    },
    {
     "name": "stdout",
     "output_type": "stream",
     "text": [
      "website: https://www.foxnews.com/world/hong-kong-protests-condemned-by-china-as-horrendous-as-state-media-calls-on-forceful-action-to-end-ongoing-unrestnumber: 45"
     ]
    },
    {
     "name": "stdout",
     "output_type": "stream",
     "text": [
      "\n"
     ]
    },
    {
     "name": "stdout",
     "output_type": "stream",
     "text": [
      "<title data-n-head=\"true\">Hong Kong protests condemned by China as 'horrendous' as state media calls on 'forceful' action to end unrest | Fox News</title>"
     ]
    },
    {
     "name": "stdout",
     "output_type": "stream",
     "text": [
      "\n"
     ]
    },
    {
     "name": "stdout",
     "output_type": "stream",
     "text": [
      "website: https://www.theguardian.com/world/2019/jul/29/iran-releases-audio-of-patrol-boat-warning-off-royal-navy-shipnumber: 46"
     ]
    },
    {
     "name": "stdout",
     "output_type": "stream",
     "text": [
      "\n"
     ]
    },
    {
     "name": "stdout",
     "output_type": "stream",
     "text": [
      "<title>Iran releases audio of patrol boat warning off Royal Navy ship | World news | The Guardian</title>"
     ]
    },
    {
     "name": "stdout",
     "output_type": "stream",
     "text": [
      "\n"
     ]
    },
    {
     "name": "stdout",
     "output_type": "stream",
     "text": [
      "website: https://nypost.com/2019/07/29/video-shows-iran-warning-british-warship-not-to-interfere-in-seizure-of-oil-tankernumber: 47"
     ]
    },
    {
     "name": "stdout",
     "output_type": "stream",
     "text": [
      "\n"
     ]
    },
    {
     "name": "stdout",
     "output_type": "stream",
     "text": [
      "<title>Video shows Iran warning British warship not to ‘interfere’ in seizure of oil tanker</title>"
     ]
    },
    {
     "name": "stdout",
     "output_type": "stream",
     "text": [
      "\n"
     ]
    },
    {
     "name": "stdout",
     "output_type": "stream",
     "text": [
      "website: https://www.sltrib.com/opinion/commentary/2019/07/28/david-burns-i-was-lastnumber: 48"
     ]
    },
    {
     "name": "stdout",
     "output_type": "stream",
     "text": [
      "\n"
     ]
    },
    {
     "name": "stdout",
     "output_type": "stream",
     "text": [
      "<title>David Burns: I was in the last ‘Shadow War’ with Iran. It’s a cautionary tale. - The Salt Lake Tribune</title>"
     ]
    },
    {
     "name": "stdout",
     "output_type": "stream",
     "text": [
      "\n"
     ]
    },
    {
     "name": "stdout",
     "output_type": "stream",
     "text": [
      "website: https://www.latimes.com/opinion/story/2019-07-26/iran-hormuz-strait-persian-gulf-history-conflictsnumber: 49"
     ]
    },
    {
     "name": "stdout",
     "output_type": "stream",
     "text": [
      "\n"
     ]
    },
    {
     "name": "stdout",
     "output_type": "stream",
     "text": [
      "<title>Op-Ed:  The Strait of Hormuz, an ancient tinderbox, still sits at the center of global conflicts - Los Angeles Times</title>"
     ]
    },
    {
     "name": "stdout",
     "output_type": "stream",
     "text": [
      "\n"
     ]
    },
    {
     "name": "stdout",
     "output_type": "stream",
     "text": [
      "website: https://www.nytimes.com/2019/07/29/us/puerto-rico-march-vazquez-rossello.htmlnumber: 50"
     ]
    },
    {
     "name": "stdout",
     "output_type": "stream",
     "text": [
      "\n"
     ]
    },
    {
     "name": "stdout",
     "output_type": "stream",
     "text": [
      "<title data-rh=\"true\">Protests Are Still Erupting in Puerto Rico. This Time, It’s Over Wanda Vázquez as Governor - The New York Times</title>"
     ]
    },
    {
     "name": "stdout",
     "output_type": "stream",
     "text": [
      "\n"
     ]
    },
    {
     "name": "stdout",
     "output_type": "stream",
     "text": [
      "website: https://deadline.com/2019/07/last-week-tonight-john-oliver-ricardo-rossello-puerto-rico-governor-hbo-1202656076number: 51"
     ]
    },
    {
     "name": "stdout",
     "output_type": "stream",
     "text": [
      "\n"
     ]
    },
    {
     "name": "stdout",
     "output_type": "stream",
     "text": [
      "<title>‘Last Week Tonight’: John Oliver Drags Governor Of Puerto Rico – Deadline</title>"
     ]
    },
    {
     "name": "stdout",
     "output_type": "stream",
     "text": [
      "\n"
     ]
    },
    {
     "name": "stdout",
     "output_type": "stream",
     "text": [
      "website: https://www.washingtonpost.com/opinions/2019/07/29/whats-next-puerto-rico-reckoning-with-its-colonial-statusnumber: 52"
     ]
    },
    {
     "name": "stdout",
     "output_type": "stream",
     "text": [
      "\n"
     ]
    },
    {
     "name": "stdout",
     "output_type": "stream",
     "text": [
      "<title>What’s next for Puerto Rico? A reckoning with its colonial status. - The Washington Post</title>"
     ]
    },
    {
     "name": "stdout",
     "output_type": "stream",
     "text": [
      "\n"
     ]
    },
    {
     "name": "stdout",
     "output_type": "stream",
     "text": [
      "website: https://www.npr.org/2019/07/29/746165677/who-will-be-puerto-ricos-next-governornumber: 53"
     ]
    },
    {
     "name": "stdout",
     "output_type": "stream",
     "text": [
      "\n"
     ]
    },
    {
     "name": "stdout",
     "output_type": "stream",
     "text": [
      "<title>Who Will Be Puerto Rico's Next Governor? : NPR</title>"
     ]
    },
    {
     "name": "stdout",
     "output_type": "stream",
     "text": [
      "\n"
     ]
    },
    {
     "name": "stdout",
     "output_type": "stream",
     "text": [
      "website: https://www.cnn.com/2019/07/28/europe/italy-police-killing-americans-arrested-intl/index.htmlnumber: 54"
     ]
    },
    {
     "name": "stdout",
     "output_type": "stream",
     "text": [
      "\n"
     ]
    },
    {
     "name": "stdout",
     "output_type": "stream",
     "text": [
      "<title>Hundreds attend wake of Italian police officer allegedly killed by two American tourists - CNN</title>"
     ]
    },
    {
     "name": "stdout",
     "output_type": "stream",
     "text": [
      "\n"
     ]
    },
    {
     "name": "stdout",
     "output_type": "stream",
     "text": [
      "website: https://www.npr.org/2019/07/29/746269121/as-u-s-china-trade-talks-resume-a-deal-remains-uncertainnumber: 55"
     ]
    },
    {
     "name": "stdout",
     "output_type": "stream",
     "text": [
      "\n"
     ]
    },
    {
     "name": "stdout",
     "output_type": "stream",
     "text": [
      "<title>U.S.-China Trade Talks Resume In Shanghai, But A Deal Remains Uncertain : NPR</title>"
     ]
    },
    {
     "name": "stdout",
     "output_type": "stream",
     "text": [
      "\n"
     ]
    },
    {
     "name": "stdout",
     "output_type": "stream",
     "text": [
      "website: https://www.cnbc.com/2019/07/29/us-china-trade-talks-resume-in-shanghai-with-tempered-expectations.htmlnumber: 56"
     ]
    },
    {
     "name": "stdout",
     "output_type": "stream",
     "text": [
      "\n"
     ]
    },
    {
     "name": "stdout",
     "output_type": "stream",
     "text": [
      "<title itemprop=\"name\">US-China trade talks resume in Shanghai with tempered expectations</title>"
     ]
    },
    {
     "name": "stdout",
     "output_type": "stream",
     "text": [
      "\n"
     ]
    },
    {
     "name": "stdout",
     "output_type": "stream",
     "text": [
      "website: https://www.nytimes.com/2019/07/29/us/politics/trade-china-trump.htmlnumber: 57"
     ]
    },
    {
     "name": "stdout",
     "output_type": "stream",
     "text": [
      "\n"
     ]
    },
    {
     "name": "stdout",
     "output_type": "stream",
     "text": [
      "<title data-rh=\"true\">U.S. and China Resume Trade Talks Amid Dim Prospects for Deal - The New York Times</title>"
     ]
    },
    {
     "name": "stdout",
     "output_type": "stream",
     "text": [
      "\n"
     ]
    },
    {
     "name": "stdout",
     "output_type": "stream",
     "text": [
      "website: https://www.theatlantic.com/international/archive/2019/07/how-will-democrats-deal-china/594817number: 58"
     ]
    },
    {
     "name": "stdout",
     "output_type": "stream",
     "text": [
      "\n"
     ]
    },
    {
     "name": "stdout",
     "output_type": "stream",
     "text": [
      "<title> How Will Democrats Deal With China? - The Atlantic </title>"
     ]
    },
    {
     "name": "stdout",
     "output_type": "stream",
     "text": [
      "\n"
     ]
    },
    {
     "name": "stdout",
     "output_type": "stream",
     "text": [
      "website: https://www.bbc.com/news/business-49148685number: 59"
     ]
    },
    {
     "name": "stdout",
     "output_type": "stream",
     "text": [
      "\n"
     ]
    },
    {
     "name": "stdout",
     "output_type": "stream",
     "text": [
      "<title>Can fresh US-China talks end the trade war? - BBC News</title>"
     ]
    },
    {
     "name": "stdout",
     "output_type": "stream",
     "text": [
      "\n"
     ]
    },
    {
     "name": "stdout",
     "output_type": "stream",
     "text": [
      "website: https://nypost.com/2019/07/29/british-tourist-accused-of-making-up-gang-rape-held-without-bailnumber: 60"
     ]
    },
    {
     "name": "stdout",
     "output_type": "stream",
     "text": [
      "\n"
     ]
    },
    {
     "name": "stdout",
     "output_type": "stream",
     "text": [
      "<title>British tourist accused of making up gang rape held without bail</title>"
     ]
    },
    {
     "name": "stdout",
     "output_type": "stream",
     "text": [
      "\n"
     ]
    },
    {
     "name": "stdout",
     "output_type": "stream",
     "text": [
      "website: https://www.reuters.com/article/us-cyprus-crime-tourists-briton/cyprus-court-postpones-hearing-in-rape-accusation-case-idUSKCN1UO0ZUnumber: 61"
     ]
    },
    {
     "name": "stdout",
     "output_type": "stream",
     "text": [
      "\n"
     ]
    },
    {
     "name": "stdout",
     "output_type": "stream",
     "text": [
      "<title>\n                Cyprus court postpones hearing in rape accusation case - Reuters</title>"
     ]
    },
    {
     "name": "stdout",
     "output_type": "stream",
     "text": [
      "\n"
     ]
    },
    {
     "name": "stdout",
     "output_type": "stream",
     "text": [
      "website: https://www.washingtonexaminer.com/news/british-woman-arrested-in-cyprus-after-accusing-12-israelis-of-gang-raping-hernumber: 62"
     ]
    },
    {
     "name": "stdout",
     "output_type": "stream",
     "text": [
      "\n"
     ]
    },
    {
     "name": "stdout",
     "output_type": "stream",
     "text": [
      "<title>British woman arrested in Cyprus after accusing 12 Israelis of gang raping her</title>"
     ]
    },
    {
     "name": "stdout",
     "output_type": "stream",
     "text": [
      "\n"
     ]
    },
    {
     "name": "stdout",
     "output_type": "stream",
     "text": [
      "website: https://www.thesun.co.uk/news/9604688/pictured-ayia-napa-gang-rape-lying-british-courtnumber: 63"
     ]
    },
    {
     "name": "stdout",
     "output_type": "stream",
     "text": [
      "\n"
     ]
    },
    {
     "name": "stdout",
     "output_type": "stream",
     "text": [
      "<title>Brit in Ayia Napa court for lying over gang rape after 'selfie' clears suspect</title>"
     ]
    },
    {
     "name": "stdout",
     "output_type": "stream",
     "text": [
      "\n"
     ]
    },
    {
     "name": "stdout",
     "output_type": "stream",
     "text": [
      "website: https://www.snopes.com/ap/2019/07/29/unmarked-buildings-quiet-legal-help-for-accused-priestsnumber: 64"
     ]
    },
    {
     "name": "stdout",
     "output_type": "stream",
     "text": [
      "\n"
     ]
    },
    {
     "name": "stdout",
     "output_type": "stream",
     "text": [
      "<title>Unmarked Buildings, Quiet Legal Help for Accused Priests</title>"
     ]
    },
    {
     "name": "stdout",
     "output_type": "stream",
     "text": [
      "\n"
     ]
    },
    {
     "name": "stdout",
     "output_type": "stream",
     "text": [
      "website: https://www.aljazeera.com/news/2019/07/nigeria-death-toll-boko-haram-funeral-attack-rises-65-190728195337691.htmlnumber: 65"
     ]
    },
    {
     "name": "stdout",
     "output_type": "stream",
     "text": [
      "\n"
     ]
    },
    {
     "name": "stdout",
     "output_type": "stream",
     "text": [
      "<title>Nigeria: Toll in suspected Boko Haram funeral attack rises to 65 |  News | Al Jazeera</title>"
     ]
    },
    {
     "name": "stdout",
     "output_type": "stream",
     "text": [
      "\n"
     ]
    },
    {
     "name": "stdout",
     "output_type": "stream",
     "text": [
      "website: https://www.washingtonpost.com/world/indias-tiger-population-doubles-in-a-dozen-years-despite-growing-human-animal-conflict/2019/07/29/e64156be-b1d0-11e9-acc8-1d847bacca73_story.htmlnumber: 66"
     ]
    },
    {
     "name": "stdout",
     "output_type": "stream",
     "text": [
      "\n"
     ]
    },
    {
     "name": "stdout",
     "output_type": "stream",
     "text": [
      "<title>India’s tiger population doubles in a dozen years, despite growing human-animal conflict - The Washington Post</title>"
     ]
    },
    {
     "name": "stdout",
     "output_type": "stream",
     "text": [
      "\n"
     ]
    },
    {
     "name": "stdout",
     "output_type": "stream",
     "text": [
      "website: https://www.cnn.com/travel/article/india-tigers-modi-scli-intl/index.htmlnumber: 67"
     ]
    },
    {
     "name": "stdout",
     "output_type": "stream",
     "text": [
      "\n"
     ]
    },
    {
     "name": "stdout",
     "output_type": "stream",
     "text": [
      "<title data-react-helmet=\"true\">As India's tiger numbers rise, Modi has gone on Man Vs Wild safari with Bear Grylls | CNN Travel</title>"
     ]
    },
    {
     "name": "stdout",
     "output_type": "stream",
     "text": [
      "\n"
     ]
    },
    {
     "name": "stdout",
     "output_type": "stream",
     "text": [
      "website: https://www.npr.org/2019/07/29/746237332/census-finds-nearly-3-000-tigers-in-indianumber: 68"
     ]
    },
    {
     "name": "stdout",
     "output_type": "stream",
     "text": [
      "\n"
     ]
    },
    {
     "name": "stdout",
     "output_type": "stream",
     "text": [
      "<title>India's Wild Tiger Population Up Some 30% Since 2014, According To Census : NPR</title>"
     ]
    },
    {
     "name": "stdout",
     "output_type": "stream",
     "text": [
      "\n"
     ]
    },
    {
     "name": "stdout",
     "output_type": "stream",
     "text": [
      "website: https://www.cbsnews.com/news/indias-wild-tiger-population-increases-to-nearly-3000-despite-human-conflict-tiger-census-released-today-2019-07-29number: 69"
     ]
    },
    {
     "name": "stdout",
     "output_type": "stream",
     "text": [
      "\n"
     ]
    },
    {
     "name": "stdout",
     "output_type": "stream",
     "text": [
      "<title>    \n            India tiger population: India's wild tiger population increases to nearly 3,000 – despite human conflict – officials announce census report ahead of International Tiger Day - CBS News\n    </title>"
     ]
    },
    {
     "name": "stdout",
     "output_type": "stream",
     "text": [
      "\n"
     ]
    },
    {
     "name": "stdout",
     "output_type": "stream",
     "text": [
      "website: https://www.cnn.com/videos/world/2019/07/29/india-tigers-study-modi-grylls-orig-cl.cnnnumber: 70"
     ]
    },
    {
     "name": "stdout",
     "output_type": "stream",
     "text": [
      "\n"
     ]
    },
    {
     "name": "stdout",
     "output_type": "stream",
     "text": [
      "<title>Great news for tigers in India - CNN Video</title>"
     ]
    },
    {
     "name": "stdout",
     "output_type": "stream",
     "text": [
      "\n"
     ]
    },
    {
     "name": "stdout",
     "output_type": "stream",
     "text": [
      "website: https://www.bloomberg.com/news/articles/2019-07-29/amlo-says-he-d-like-mexico-to-cut-interest-rates-to-boost-growthnumber: 71"
     ]
    },
    {
     "name": "stdout",
     "output_type": "stream",
     "text": [
      "\n"
     ]
    },
    {
     "name": "stdout",
     "output_type": "stream",
     "text": [
      "<title>Bloomberg - Are you a robot?</title>"
     ]
    },
    {
     "name": "stdout",
     "output_type": "stream",
     "text": [
      "\n"
     ]
    },
    {
     "name": "stdout",
     "output_type": "stream",
     "text": [
      "website: https://www.reuters.com/article/us-mexico-president-migration/mexican-president-says-mexico-could-not-commit-to-safe-third-country-agreement-bloomberg-idUSKCN1UP06Gnumber: 72"
     ]
    },
    {
     "name": "stdout",
     "output_type": "stream",
     "text": [
      "\n"
     ]
    },
    {
     "name": "stdout",
     "output_type": "stream",
     "text": [
      "<title>\n                Mexican president says Mexico could not commit to safe third-country agreement: Bloomberg - Reuters</title>"
     ]
    },
    {
     "name": "stdout",
     "output_type": "stream",
     "text": [
      "\n"
     ]
    },
    {
     "name": "stdout",
     "output_type": "stream",
     "text": [
      "website: https://www.bloomberg.com/news/articles/2019-07-29/trump-has-toned-down-rhetoric-against-mexicans-amlo-saysnumber: 73"
     ]
    },
    {
     "name": "stdout",
     "output_type": "stream",
     "text": [
      "\n"
     ]
    },
    {
     "name": "stdout",
     "output_type": "stream",
     "text": [
      "<title>Bloomberg - Are you a robot?</title>"
     ]
    },
    {
     "name": "stdout",
     "output_type": "stream",
     "text": [
      "\n"
     ]
    },
    {
     "name": "stdout",
     "output_type": "stream",
     "text": [
      "website: https://www.reuters.com/article/us-mexico-president-economy/mexican-president-says-country-is-not-in-recession-idUSKCN1UO1GXnumber: 74"
     ]
    },
    {
     "name": "stdout",
     "output_type": "stream",
     "text": [
      "\n"
     ]
    },
    {
     "name": "stdout",
     "output_type": "stream",
     "text": [
      "<title>\n                Mexico is not in recession, economy is improving: president - Reuters</title>"
     ]
    },
    {
     "name": "stdout",
     "output_type": "stream",
     "text": [
      "\n"
     ]
    },
    {
     "name": "stdout",
     "output_type": "stream",
     "text": [
      "website: https://www.bloomberg.com/news/articles/2019-07-29/amlo-draws-the-line-at-trump-s-push-for-asylum-deal-on-migrantsnumber: 75"
     ]
    },
    {
     "name": "stdout",
     "output_type": "stream",
     "text": [
      "\n"
     ]
    },
    {
     "name": "stdout",
     "output_type": "stream",
     "text": [
      "<title>Bloomberg - Are you a robot?</title>"
     ]
    },
    {
     "name": "stdout",
     "output_type": "stream",
     "text": [
      "\n"
     ]
    },
    {
     "name": "stdout",
     "output_type": "stream",
     "text": [
      "website: https://www.cnn.com/2019/07/29/politics/trump-taxes-ways-and-means/index.htmlnumber: 76"
     ]
    },
    {
     "name": "stdout",
     "output_type": "stream",
     "text": [
      "\n"
     ]
    },
    {
     "name": "stdout",
     "output_type": "stream",
     "text": [
      "<title>Trump tax case: Judge dodges decision for now  - CNNPolitics</title>"
     ]
    },
    {
     "name": "stdout",
     "output_type": "stream",
     "text": [
      "\n"
     ]
    },
    {
     "name": "stdout",
     "output_type": "stream",
     "text": [
      "website: https://thehill.com/policy/finance/455232-judge-order-trump-new-york-ways-and-means-to-try-to-reach-deal-on-tax-returnsnumber: 77"
     ]
    },
    {
     "name": "stdout",
     "output_type": "stream",
     "text": [
      "\n"
     ]
    },
    {
     "name": "stdout",
     "output_type": "stream",
     "text": [
      "<title>Judge orders Trump, New York, Ways and Means to try to reach deal on tax returns | TheHill</title>"
     ]
    },
    {
     "name": "stdout",
     "output_type": "stream",
     "text": [
      "\n"
     ]
    },
    {
     "name": "stdout",
     "output_type": "stream",
     "text": [
      "website: https://www.express.co.uk/news/world/1159305/donald-trump-france-digital-tax-dispute-wine-tax-macron-latestnumber: 78"
     ]
    },
    {
     "name": "stdout",
     "output_type": "stream",
     "text": [
      "\n"
     ]
    },
    {
     "name": "stdout",
     "output_type": "stream",
     "text": [
      "<title>Trump faces backlash from Macron’s minister for wine tax threat – ‘Mixing the issues!’ | World | News | Express.co.uk</title>"
     ]
    },
    {
     "name": "stdout",
     "output_type": "stream",
     "text": [
      "\n"
     ]
    },
    {
     "name": "stdout",
     "output_type": "stream",
     "text": [
      "website: https://www.politico.com/story/2019/07/29/judge-trump-new-york-tax-returns-1625959number: 79"
     ]
    },
    {
     "name": "stdout",
     "output_type": "stream",
     "text": [
      "\n"
     ]
    },
    {
     "name": "stdout",
     "output_type": "stream",
     "text": [
      "<title>Judge seeks compromise in fight over Trump's state tax returns - POLITICO</title>"
     ]
    },
    {
     "name": "stdout",
     "output_type": "stream",
     "text": [
      "\n"
     ]
    },
    {
     "name": "stdout",
     "output_type": "stream",
     "text": [
      "website: https://fortune.com/2019/07/29/why-french-winemakers-are-having-the-worst-summer-evernumber: 80"
     ]
    },
    {
     "name": "stdout",
     "output_type": "stream",
     "text": [
      "\n"
     ]
    },
    {
     "name": "stdout",
     "output_type": "stream",
     "text": [
      "<title data-react-helmet=\"true\">China, Heat, and Trump: Why French Winemakers Are Having The Worst Summer Ever | Fortune</title>"
     ]
    },
    {
     "name": "stdout",
     "output_type": "stream",
     "text": [
      "\n"
     ]
    },
    {
     "name": "stdout",
     "output_type": "stream",
     "text": [
      "website: https://www.cnn.com/style/article/duchess-meghan-british-vogue-scli-gbr-intl/index.htmlnumber: 81"
     ]
    },
    {
     "name": "stdout",
     "output_type": "stream",
     "text": [
      "\n"
     ]
    },
    {
     "name": "stdout",
     "output_type": "stream",
     "text": [
      "<title data-react-helmet=\"true\">Meghan, Duchess of Sussex, is guest editing British Vogue -- and she's bringing a supergroup of leading women with her - CNN Style</title>"
     ]
    },
    {
     "name": "stdout",
     "output_type": "stream",
     "text": [
      "\n"
     ]
    },
    {
     "name": "stdout",
     "output_type": "stream",
     "text": [
      "website: https://people.com/royals/michelle-obama-just-gave-meghan-markle-advice-on-being-a-new-mom-and-it-left-her-speechlessnumber: 82"
     ]
    },
    {
     "name": "stdout",
     "output_type": "stream",
     "text": [
      "\n"
     ]
    },
    {
     "name": "stdout",
     "output_type": "stream",
     "text": [
      "<title>Meghan Markle Receives New Mom Advice from Michelle Obama | PEOPLE.com</title>"
     ]
    },
    {
     "name": "stdout",
     "output_type": "stream",
     "text": [
      "\n"
     ]
    },
    {
     "name": "stdout",
     "output_type": "stream",
     "text": [
      "website: https://www.cbsnews.com/news/meghan-markle-guest-edits-british-vogue-september-issuenumber: 83"
     ]
    },
    {
     "name": "stdout",
     "output_type": "stream",
     "text": [
      "\n"
     ]
    },
    {
     "name": "stdout",
     "output_type": "stream",
     "text": [
      "<title>    \n            Meghan Markle guest edits British Vogue's September issue - CBS News\n    </title>"
     ]
    },
    {
     "name": "stdout",
     "output_type": "stream",
     "text": [
      "\n"
     ]
    },
    {
     "name": "stdout",
     "output_type": "stream",
     "text": [
      "website: https://people.com/royals/meghan-markle-special-time-personally-vogue-editor-letternumber: 84"
     ]
    },
    {
     "name": "stdout",
     "output_type": "stream",
     "text": [
      "\n"
     ]
    },
    {
     "name": "stdout",
     "output_type": "stream",
     "text": [
      "<title>Meghan Markle Opens Up on 'Special Time' in Vogue Editor's Letter | PEOPLE.com</title>"
     ]
    },
    {
     "name": "stdout",
     "output_type": "stream",
     "text": [
      "\n"
     ]
    },
    {
     "name": "stdout",
     "output_type": "stream",
     "text": [
      "website: https://www.nytimes.com/2019/07/29/climate/greta-thunberg-sailing-climate-summit.htmlnumber: 85"
     ]
    },
    {
     "name": "stdout",
     "output_type": "stream",
     "text": [
      "\n"
     ]
    },
    {
     "name": "stdout",
     "output_type": "stream",
     "text": [
      "<title data-rh=\"true\">Greta Thunberg to Attend New York Climate Talks. She’ll Take a Sailboat. - The New York Times</title>"
     ]
    },
    {
     "name": "stdout",
     "output_type": "stream",
     "text": [
      "\n"
     ]
    },
    {
     "name": "stdout",
     "output_type": "stream",
     "text": [
      "website: https://www.bbc.com/news/world-europe-49156223number: 86"
     ]
    },
    {
     "name": "stdout",
     "output_type": "stream",
     "text": [
      "\n"
     ]
    },
    {
     "name": "stdout",
     "output_type": "stream",
     "text": [
      "<title>Greta Thunberg to sail Atlantic for climate conferences - BBC News</title>"
     ]
    },
    {
     "name": "stdout",
     "output_type": "stream",
     "text": [
      "\n"
     ]
    },
    {
     "name": "stdout",
     "output_type": "stream",
     "text": [
      "website: https://www.cbsnews.com/news/greta-thunberg-teen-climate-change-activist-bringing-protests-to-us-by-boat-on-racing-yacht-to-avoid-planesnumber: 87"
     ]
    },
    {
     "name": "stdout",
     "output_type": "stream",
     "text": [
      "\n"
     ]
    },
    {
     "name": "stdout",
     "output_type": "stream",
     "text": [
      "<title>    \n            Greta Thunberg, teen climate change activist bringing protests to US by boat to avoid planes - CBS News\n    </title>"
     ]
    },
    {
     "name": "stdout",
     "output_type": "stream",
     "text": [
      "\n"
     ]
    },
    {
     "name": "stdout",
     "output_type": "stream",
     "text": [
      "website: https://www.cleveland.com/nation/2019/07/swedish-teen-to-bring-her-climate-activism-to-us.htmlnumber: 88"
     ]
    },
    {
     "name": "stdout",
     "output_type": "stream",
     "text": [
      "\n"
     ]
    },
    {
     "name": "stdout",
     "output_type": "stream",
     "text": [
      "<title>Swedish teen to bring her climate activism to US - cleveland.com</title>"
     ]
    },
    {
     "name": "stdout",
     "output_type": "stream",
     "text": [
      "\n"
     ]
    },
    {
     "name": "stdout",
     "output_type": "stream",
     "text": [
      "website: https://thehill.com/policy/energy-environment/455107-greta-thunberg-to-sail-across-atlantic-for-climate-activismnumber: 89"
     ]
    },
    {
     "name": "stdout",
     "output_type": "stream",
     "text": [
      "\n"
     ]
    },
    {
     "name": "stdout",
     "output_type": "stream",
     "text": [
      "<title>Swedish teen Greta Thunberg to sail across Atlantic for climate activism | TheHill</title>"
     ]
    },
    {
     "name": "stdout",
     "output_type": "stream",
     "text": [
      "\n"
     ]
    },
    {
     "name": "stdout",
     "output_type": "stream",
     "text": [
      "website: https://www.npr.org/2019/07/29/737990796/the-deadly-winters-that-have-transformed-life-for-herders-in-mongolianumber: 90"
     ]
    },
    {
     "name": "stdout",
     "output_type": "stream",
     "text": [
      "\n"
     ]
    },
    {
     "name": "stdout",
     "output_type": "stream",
     "text": [
      "<title>The Deadly Winters That Have Transformed Life For Herders In Mongolia : NPR</title>"
     ]
    },
    {
     "name": "stdout",
     "output_type": "stream",
     "text": [
      "\n"
     ]
    },
    {
     "name": "stdout",
     "output_type": "stream",
     "text": [
      "website: https://www.reuters.com/article/us-afghanistan-blast/death-toll-from-attack-on-afghan-vp-candidates-office-rises-to-20-idUSKCN1UO0BMnumber: 91"
     ]
    },
    {
     "name": "stdout",
     "output_type": "stream",
     "text": [
      "\n"
     ]
    },
    {
     "name": "stdout",
     "output_type": "stream",
     "text": [
      "<title>\n                Death toll from attack on Afghan VP candidate's office rises to 20 - Reuters</title>"
     ]
    },
    {
     "name": "stdout",
     "output_type": "stream",
     "text": [
      "\n"
     ]
    },
    {
     "name": "stdout",
     "output_type": "stream",
     "text": [
      "website: https://www.nbcnews.com/news/latino/we-are-great-danger-amazon-indigenous-waiapi-chief-killed-illegal-n1035806number: 92"
     ]
    },
    {
     "name": "stdout",
     "output_type": "stream",
     "text": [
      "\n"
     ]
    },
    {
     "name": "stdout",
     "output_type": "stream",
     "text": [
      "<title data-rh=\"true\">\"We are in great danger\": In Amazon, indigenous Waiapi chief is killed by illegal miners</title>"
     ]
    },
    {
     "name": "stdout",
     "output_type": "stream",
     "text": [
      "\n"
     ]
    },
    {
     "name": "stdout",
     "output_type": "stream",
     "text": [
      "website: https://www.foxnews.com/world/brazil-indigenous-leader-death-minersnumber: 93"
     ]
    },
    {
     "name": "stdout",
     "output_type": "stream",
     "text": [
      "\n"
     ]
    },
    {
     "name": "stdout",
     "output_type": "stream",
     "text": [
      "<title data-n-head=\"true\">Brazil investigates death of indigenous leader after miners reportedly attack village | Fox News</title>"
     ]
    },
    {
     "name": "stdout",
     "output_type": "stream",
     "text": [
      "\n"
     ]
    },
    {
     "name": "stdout",
     "output_type": "stream",
     "text": [
      "website: https://www.reuters.com/article/us-brazil-politics/brazils-bolsonaro-says-no-evidence-indigenous-leader-murdered-idUSKCN1UO208number: 94"
     ]
    },
    {
     "name": "stdout",
     "output_type": "stream",
     "text": [
      "\n"
     ]
    },
    {
     "name": "stdout",
     "output_type": "stream",
     "text": [
      "<title>\n                Brazil's Bolsonaro says no evidence indigenous leader murdered - Reuters</title>"
     ]
    },
    {
     "name": "stdout",
     "output_type": "stream",
     "text": [
      "\n"
     ]
    },
    {
     "name": "stdout",
     "output_type": "stream",
     "text": [
      "website: https://www.telegraph.co.uk/news/2019/07/28/brazil-miners-kill-tribal-leader-amazon-land-invasionnumber: 95"
     ]
    },
    {
     "name": "stdout",
     "output_type": "stream",
     "text": [
      "\n"
     ]
    },
    {
     "name": "stdout",
     "output_type": "stream",
     "text": [
      "<title>Brazil miners kill tribal leader in Amazon land invasion </title>"
     ]
    },
    {
     "name": "stdout",
     "output_type": "stream",
     "text": [
      "\n"
     ]
    },
    {
     "name": "stdout",
     "output_type": "stream",
     "text": [
      "website: https://www.reuters.com/article/us-brazil-politics-un/un-rights-boss-urges-brazil-to-preserve-amazon-from-mining-idUSKCN1UO1WXnumber: 96"
     ]
    },
    {
     "name": "stdout",
     "output_type": "stream",
     "text": [
      "\n"
     ]
    },
    {
     "name": "stdout",
     "output_type": "stream",
     "text": [
      "<title>\n                U.N. rights boss urges Brazil to preserve Amazon from mining - Reuters</title>"
     ]
    },
    {
     "name": "stdout",
     "output_type": "stream",
     "text": [
      "\n"
     ]
    },
    {
     "name": "stdout",
     "output_type": "stream",
     "text": [
      "website: https://www.foxnews.com/politics/fox-news-poll-six-in-ten-say-iran-north-korea-pose-a-threat-to-us-safetynumber: 97"
     ]
    },
    {
     "name": "stdout",
     "output_type": "stream",
     "text": [
      "\n"
     ]
    },
    {
     "name": "stdout",
     "output_type": "stream",
     "text": [
      "<title data-n-head=\"true\">Fox News Poll: Six in ten say Iran, North Korea pose a threat to US safety | Fox News</title>"
     ]
    },
    {
     "name": "stdout",
     "output_type": "stream",
     "text": [
      "\n"
     ]
    },
    {
     "name": "stdout",
     "output_type": "stream",
     "text": [
      "website: https://www.npr.org/2019/07/29/746060429/despite-loss-of-faith-in-kim-jong-un-the-u-s-tries-again-for-a-nuclear-dealnumber: 98"
     ]
    },
    {
     "name": "stdout",
     "output_type": "stream",
     "text": [
      "\n"
     ]
    },
    {
     "name": "stdout",
     "output_type": "stream",
     "text": [
      "<title>Despite 'Loss Of Faith' In Kim Jong Un, The U.S. Tries Again For A Nuclear Deal : NPR</title>"
     ]
    },
    {
     "name": "stdout",
     "output_type": "stream",
     "text": [
      "\n"
     ]
    },
    {
     "name": "stdout",
     "output_type": "stream",
     "text": [
      "website: https://www.foxnews.com/world/north-korea-detained-us-citizen-spied-cianumber: 99"
     ]
    },
    {
     "name": "stdout",
     "output_type": "stream",
     "text": [
      "\n"
     ]
    },
    {
     "name": "stdout",
     "output_type": "stream",
     "text": [
      "<title data-n-head=\"true\">US citizen released from North Korea says he spied for US, South Korea | Fox News</title>"
     ]
    },
    {
     "name": "stdout",
     "output_type": "stream",
     "text": [
      "\n"
     ]
    },
    {
     "name": "stdout",
     "output_type": "stream",
     "text": [
      "website: https://www.wsj.com/articles/u-s-sanctions-north-korean-over-illicit-trade-missile-program-11564428427number: 100"
     ]
    },
    {
     "name": "stdout",
     "output_type": "stream",
     "text": [
      "\n"
     ]
    },
    {
     "name": "stdout",
     "output_type": "stream",
     "text": [
      "<title>U.S. Sanctions North Korean Over Illicit Trade, Missile Program - WSJ</title>"
     ]
    },
    {
     "name": "stdout",
     "output_type": "stream",
     "text": [
      "\n"
     ]
    },
    {
     "name": "stdout",
     "output_type": "stream",
     "text": [
      "website: https://www.dailymail.co.uk/news/article-7295553/Boris-Johnson-plans-EU-cold-shoulder-refusing-visit-European-leaders.htmlnumber: 101"
     ]
    },
    {
     "name": "stdout",
     "output_type": "stream",
     "text": [
      "\n"
     ]
    },
    {
     "name": "stdout",
     "output_type": "stream",
     "text": [
      "<title>Boris Johnson plans to give EU cold shoulder by not visiting Brussels | Daily Mail Online</title>"
     ]
    },
    {
     "name": "stdout",
     "output_type": "stream",
     "text": [
      "\n"
     ]
    },
    {
     "name": "stdout",
     "output_type": "stream",
     "text": [
      "website: https://www.express.co.uk/news/politics/1158182/brexit-news-ireland-boris-johnson-backstop-leo-varadkarnumber: 102"
     ]
    },
    {
     "name": "stdout",
     "output_type": "stream",
     "text": [
      "\n"
     ]
    },
    {
     "name": "stdout",
     "output_type": "stream",
     "text": [
      "<title>Brexit news: Will Ireland buckle to Boris Johnson on the backstop - Leo Varadkar’s view | Politics | News | Express.co.uk</title>"
     ]
    },
    {
     "name": "stdout",
     "output_type": "stream",
     "text": [
      "\n"
     ]
    },
    {
     "name": "stdout",
     "output_type": "stream",
     "text": [
      "website: https://www.theguardian.com/commentisfree/2019/jul/28/corbyn-must-choose-lead-alliance-against-brexit-right-or-step-asidenumber: 103"
     ]
    },
    {
     "name": "stdout",
     "output_type": "stream",
     "text": [
      "\n"
     ]
    },
    {
     "name": "stdout",
     "output_type": "stream",
     "text": [
      "<title>Corbyn must choose: lead the alliance against the Brexit right. Or step aside | Will Hutton | Opinion | The Guardian</title>"
     ]
    },
    {
     "name": "stdout",
     "output_type": "stream",
     "text": [
      "\n"
     ]
    },
    {
     "name": "stdout",
     "output_type": "stream",
     "text": [
      "website: https://www.aljazeera.com/indepth/features/boris-johnson-uk-prime-minister-190727194445201.htmlnumber: 104"
     ]
    },
    {
     "name": "stdout",
     "output_type": "stream",
     "text": [
      "\n"
     ]
    },
    {
     "name": "stdout",
     "output_type": "stream",
     "text": [
      "<title>Could Boris Johnson be the UK's last prime minister? | Boris Johnson | Al Jazeera</title>"
     ]
    },
    {
     "name": "stdout",
     "output_type": "stream",
     "text": [
      "\n"
     ]
    },
    {
     "name": "stdout",
     "output_type": "stream",
     "text": [
      "website: https://www.cbsnews.com/news/iran-nuclear-deal-diplomats-from-iran-european-union-china-russia-hold-talks-vienna-today-2019-07-28number: 105"
     ]
    },
    {
     "name": "stdout",
     "output_type": "stream",
     "text": [
      "\n"
     ]
    },
    {
     "name": "stdout",
     "output_type": "stream",
     "text": [
      "<title>    \n            Iran nuclear deal: Diplomats from Iran, European Union, China, Russia hold talks in Vienna - CBS News\n    </title>"
     ]
    },
    {
     "name": "stdout",
     "output_type": "stream",
     "text": [
      "\n"
     ]
    },
    {
     "name": "stdout",
     "output_type": "stream",
     "text": [
      "website: https://www.nytimes.com/2019/07/28/world/europe/iran-tanker-britain-nuclear.htmlnumber: 106"
     ]
    },
    {
     "name": "stdout",
     "output_type": "stream",
     "text": [
      "\n"
     ]
    },
    {
     "name": "stdout",
     "output_type": "stream",
     "text": [
      "<title data-rh=\"true\">Iran Links British Seizure of Oil Tanker to Ailing Nuclear Deal - The New York Times</title>"
     ]
    },
    {
     "name": "stdout",
     "output_type": "stream",
     "text": [
      "\n"
     ]
    },
    {
     "name": "stdout",
     "output_type": "stream",
     "text": [
      "website: https://www.telegraph.co.uk/news/2019/07/28/iran-restart-activities-arak-nuclear-facility-says-officialnumber: 107"
     ]
    },
    {
     "name": "stdout",
     "output_type": "stream",
     "text": [
      "\n"
     ]
    },
    {
     "name": "stdout",
     "output_type": "stream",
     "text": [
      "<title>Iran to restart activities at Arak nuclear facility, says official</title>"
     ]
    },
    {
     "name": "stdout",
     "output_type": "stream",
     "text": [
      "\n"
     ]
    },
    {
     "name": "stdout",
     "output_type": "stream",
     "text": [
      "website: https://www.nytimes.com/2019/07/28/world/americas/guatemala-safe-third-asylum.htmlnumber: 108"
     ]
    },
    {
     "name": "stdout",
     "output_type": "stream",
     "text": [
      "\n"
     ]
    },
    {
     "name": "stdout",
     "output_type": "stream",
     "text": [
      "<title data-rh=\"true\">The U.S. and Guatemala Reached an Asylum Deal: Here’s What It Means - The New York Times</title>"
     ]
    },
    {
     "name": "stdout",
     "output_type": "stream",
     "text": [
      "\n"
     ]
    },
    {
     "name": "stdout",
     "output_type": "stream",
     "text": [
      "failed on {'full': 'https://www.politifact.com/illinois/statements/2019/jul/28/richard-durbin/has-trump-encouraged-unprecedented-number-migrants', 'site': 'politifact', 'information': '/illinois/statements/2019/jul/28/richard-durbin/has-trump-encouraged-unprecedented-number-migrants'}"
     ]
    },
    {
     "name": "stdout",
     "output_type": "stream",
     "text": [
      "\n"
     ]
    },
    {
     "name": "stdout",
     "output_type": "stream",
     "text": [
      "website: https://thehill.com/opinion/immigration/455096-forcing-guatemala-into-a-safe-third-country-agreement-is-jaw-droppinglynumber: 110"
     ]
    },
    {
     "name": "stdout",
     "output_type": "stream",
     "text": [
      "\n"
     ]
    },
    {
     "name": "stdout",
     "output_type": "stream",
     "text": [
      "<title>Forcing Guatemala into a 'safe third country' agreement is jaw-droppingly insane | TheHill</title>"
     ]
    },
    {
     "name": "stdout",
     "output_type": "stream",
     "text": [
      "\n"
     ]
    },
    {
     "name": "stdout",
     "output_type": "stream",
     "text": [
      "website: https://www.cbsnews.com/news/julian-castro-on-face-the-nation-migrants-may-end-up-dead-because-of-us-guatemala-asylum-dealnumber: 111"
     ]
    },
    {
     "name": "stdout",
     "output_type": "stream",
     "text": [
      "\n"
     ]
    },
    {
     "name": "stdout",
     "output_type": "stream",
     "text": [
      "<title>    \n            Julián Castro on \"Face the Nation\": Migrants may \"end up dead\" because of U.S.-Guatemala asylum deal - CBS News\n    </title>"
     ]
    },
    {
     "name": "stdout",
     "output_type": "stream",
     "text": [
      "\n"
     ]
    },
    {
     "name": "stdout",
     "output_type": "stream",
     "text": [
      "website: https://cbsnews1.cbsistatic.com/hub/i/r/2019/07/28/952a46ef-6324-4ba7-80f6-885a3b10bb57/thumbnail/940x470/b943d43be10f6790fbc7fc65de93b116/screen-shot-2019-07-28-at-10-56-21-am.pngnumber: 112"
     ]
    },
    {
     "name": "stdout",
     "output_type": "stream",
     "text": [
      "\n"
     ]
    },
    {
     "name": "stderr",
     "output_type": "stream",
     "text": [
      "WARNING:bs4.dammit:Some characters could not be decoded, and were replaced with REPLACEMENT CHARACTER."
     ]
    },
    {
     "name": "stderr",
     "output_type": "stream",
     "text": [
      "\n"
     ]
    },
    {
     "name": "stdout",
     "output_type": "stream",
     "text": [
      "failed on {'full': 'https://cbsnews1.cbsistatic.com/hub/i/r/2019/07/28/952a46ef-6324-4ba7-80f6-885a3b10bb57/thumbnail/940x470/b943d43be10f6790fbc7fc65de93b116/screen-shot-2019-07-28-at-10-56-21-am.png', 'site': 'cbsistatic', 'information': '/hub/i/r/2019/07/28/952a46ef-6324-4ba7-80f6-885a3b10bb57/thumbnail/940x470/b943d43be10f6790fbc7fc65de93b116/screen-shot-2019-07-28-at-10-56-21-am.png'}with exception'NoneType' object has no attribute 'title'"
     ]
    },
    {
     "name": "stdout",
     "output_type": "stream",
     "text": [
      "\n"
     ]
    },
    {
     "name": "stdout",
     "output_type": "stream",
     "text": [
      "website: https://www.cbsnews.com/news/julian-castro-on-face-the-nation-migrants-may-end-up-dead-because-of-us-guatemala-asylum-dealnumber: 113"
     ]
    },
    {
     "name": "stdout",
     "output_type": "stream",
     "text": [
      "\n"
     ]
    },
    {
     "name": "stdout",
     "output_type": "stream",
     "text": [
      "<title>    \n            Julián Castro on \"Face the Nation\": Migrants may \"end up dead\" because of U.S.-Guatemala asylum deal - CBS News\n    </title>"
     ]
    },
    {
     "name": "stdout",
     "output_type": "stream",
     "text": [
      "\n"
     ]
    },
    {
     "name": "stdout",
     "output_type": "stream",
     "text": [
      "website: https://thinkprogress.org/why-trumps-latest-immigration-move-may-be-his-most-dangerous-c6b0ee40a19cnumber: 114"
     ]
    },
    {
     "name": "stdout",
     "output_type": "stream",
     "text": [
      "\n"
     ]
    },
    {
     "name": "stdout",
     "output_type": "stream",
     "text": [
      "<title>Trump’s latest immigration move might be his most dangerous – ThinkProgress</title>"
     ]
    },
    {
     "name": "stdout",
     "output_type": "stream",
     "text": [
      "\n"
     ]
    },
    {
     "name": "stdout",
     "output_type": "stream",
     "text": [
      "website: https://nypost.com/2019/07/29/nadler-trumps-agreement-to-restrict-guatemala-asylum-seekers-is-illegalnumber: 115"
     ]
    },
    {
     "name": "stdout",
     "output_type": "stream",
     "text": [
      "\n"
     ]
    },
    {
     "name": "stdout",
     "output_type": "stream",
     "text": [
      "<title>Nadler: Trump’s agreement to restrict Guatemala asylum seekers is illegal</title>"
     ]
    },
    {
     "name": "stdout",
     "output_type": "stream",
     "text": [
      "\n"
     ]
    },
    {
     "name": "stdout",
     "output_type": "stream",
     "text": [
      "website: https://www.washingtonexaminer.com/news/congress/democrats-trump-asylum-agreement-with-guatemala-is-illegalnumber: 116"
     ]
    },
    {
     "name": "stdout",
     "output_type": "stream",
     "text": [
      "\n"
     ]
    },
    {
     "name": "stdout",
     "output_type": "stream",
     "text": [
      "<title>Democrats: Trump asylum agreement with Guatemala is illegal</title>"
     ]
    },
    {
     "name": "stdout",
     "output_type": "stream",
     "text": [
      "\n"
     ]
    },
    {
     "name": "stdout",
     "output_type": "stream",
     "text": [
      "website: https://www.cnbc.com/2019/07/29/eu-to-strip-canada-brazil-singapore-of-market-access-rights-ft.htmlnumber: 117"
     ]
    },
    {
     "name": "stdout",
     "output_type": "stream",
     "text": [
      "\n"
     ]
    },
    {
     "name": "stdout",
     "output_type": "stream",
     "text": [
      "<title itemprop=\"name\">EU to strip Canada, Brazil, Singapore of market access rights: FT</title>"
     ]
    },
    {
     "name": "stdout",
     "output_type": "stream",
     "text": [
      "\n"
     ]
    },
    {
     "name": "stdout",
     "output_type": "stream",
     "text": [
      "website: https://www.reuters.com/article/us-britain-eu/britain-is-turbo-charging-no-deal-brexit-preparations-foreign-minister-idUSKCN1UO0KNnumber: 118"
     ]
    },
    {
     "name": "stdout",
     "output_type": "stream",
     "text": [
      "\n"
     ]
    },
    {
     "name": "stdout",
     "output_type": "stream",
     "text": [
      "<title>\n                Britain is turbo-charging no-deal Brexit preparations: foreign minister - Reuters</title>"
     ]
    },
    {
     "name": "stdout",
     "output_type": "stream",
     "text": [
      "\n"
     ]
    },
    {
     "name": "stdout",
     "output_type": "stream",
     "text": [
      "website: https://www.theguardian.com/politics/2019/jul/29/what-vote-leave-leaders-really-said-about-no-deal-brexitnumber: 119"
     ]
    },
    {
     "name": "stdout",
     "output_type": "stream",
     "text": [
      "\n"
     ]
    },
    {
     "name": "stdout",
     "output_type": "stream",
     "text": [
      "<title>What Vote Leave leaders really said about no-deal Brexit | Politics | The Guardian</title>"
     ]
    },
    {
     "name": "stdout",
     "output_type": "stream",
     "text": [
      "\n"
     ]
    },
    {
     "name": "stdout",
     "output_type": "stream",
     "text": [
      "website: https://www.express.co.uk/showbiz/tv-radio/1159033/ITV-Good-Morning-Britain-Kate-Garraway-Dominic-Raab-Brexit-negotiations-Donald-Trump-videonumber: 120"
     ]
    },
    {
     "name": "stdout",
     "output_type": "stream",
     "text": [
      "\n"
     ]
    },
    {
     "name": "stdout",
     "output_type": "stream",
     "text": [
      "<title>ITV Good Morning Britain Kate Garraway snaps at Dominic Raab over Brexit negotiations | TV &amp; Radio | Showbiz &amp; TV | Express.co.uk</title>"
     ]
    },
    {
     "name": "stdout",
     "output_type": "stream",
     "text": [
      "\n"
     ]
    },
    {
     "name": "stdout",
     "output_type": "stream",
     "text": [
      "website: https://www.bbc.com/news/uk-49157898number: 121"
     ]
    },
    {
     "name": "stdout",
     "output_type": "stream",
     "text": [
      "\n"
     ]
    },
    {
     "name": "stdout",
     "output_type": "stream",
     "text": [
      "<title>UK heatwave: Met Office confirms record temperature in Cambridge - BBC News</title>"
     ]
    },
    {
     "name": "stdout",
     "output_type": "stream",
     "text": [
      "\n"
     ]
    },
    {
     "name": "stdout",
     "output_type": "stream",
     "text": [
      "website: https://nypost.com/2019/07/29/uk-officially-broke-temperature-record-during-heat-wavenumber: 122"
     ]
    },
    {
     "name": "stdout",
     "output_type": "stream",
     "text": [
      "\n"
     ]
    },
    {
     "name": "stdout",
     "output_type": "stream",
     "text": [
      "<title>UK broke temperature record during heat wave</title>"
     ]
    },
    {
     "name": "stdout",
     "output_type": "stream",
     "text": [
      "\n"
     ]
    },
    {
     "name": "stdout",
     "output_type": "stream",
     "text": [
      "failed on {'full': 'https://wtop.com/world/2019/07/its-official-uk-broke-temperature-record-during-heat-wave', 'site': 'wtop', 'information': '/world/2019/07/its-official-uk-broke-temperature-record-during-heat-wave', 'pic': 'https://wtop.com/wp-content/uploads/2019/07/Britain_Europe_Heatwave_37700-1024x768.jpg'}"
     ]
    },
    {
     "name": "stdout",
     "output_type": "stream",
     "text": [
      "\n"
     ]
    },
    {
     "name": "stdout",
     "output_type": "stream",
     "text": [
      "website: https://www.theguardian.com/uk-news/2019/jul/29/met-office-confirms-new-uk-record-temperature-of-387cnumber: 124"
     ]
    },
    {
     "name": "stdout",
     "output_type": "stream",
     "text": [
      "\n"
     ]
    },
    {
     "name": "stdout",
     "output_type": "stream",
     "text": [
      "<title>Met Office confirms new UK record temperature of 38.7C | UK news | The Guardian</title>"
     ]
    },
    {
     "name": "stdout",
     "output_type": "stream",
     "text": [
      "\n"
     ]
    },
    {
     "name": "stdout",
     "output_type": "stream",
     "text": [
      "failed on {'full': 'https://www.ndtv.com/world-news/at-38-7-celsius-last-week-temperatures-in-britain-hits-highest-on-record-2077216', 'site': 'ndtv', 'information': '/world-news/at-38-7-celsius-last-week-temperatures-in-britain-hits-highest-on-record-2077216', 'pic': 'https://c.ndtvimg.com/2019-07/58pl9qhg_britain-heat-wave-reuters_625x300_29_July_19.jpg'}"
     ]
    },
    {
     "name": "stdout",
     "output_type": "stream",
     "text": [
      "\n"
     ]
    },
    {
     "name": "stdout",
     "output_type": "stream",
     "text": [
      "website: https://abcnews.go.com/Lifestyle/wireStory/lead-leak-notre-dame-cathedral-fire-prompts-lawsuit-64630015number: 126"
     ]
    },
    {
     "name": "stdout",
     "output_type": "stream",
     "text": [
      "\n"
     ]
    },
    {
     "name": "stdout",
     "output_type": "stream",
     "text": [
      "<title>Lead leak from Notre Dame cathedral fire prompts lawsuit - ABC News</title>"
     ]
    },
    {
     "name": "stdout",
     "output_type": "stream",
     "text": [
      "\n"
     ]
    },
    {
     "name": "stdout",
     "output_type": "stream",
     "text": [
      "website: https://www.snopes.com/ap/2019/07/29/group-sues-over-toxic-lead-from-notre-dame-firenumber: 127"
     ]
    },
    {
     "name": "stdout",
     "output_type": "stream",
     "text": [
      "\n"
     ]
    },
    {
     "name": "stdout",
     "output_type": "stream",
     "text": [
      "<title>Group Sues Over Toxic Lead from Notre Dame Fire</title>"
     ]
    },
    {
     "name": "stdout",
     "output_type": "stream",
     "text": [
      "\n"
     ]
    },
    {
     "name": "stdout",
     "output_type": "stream",
     "text": [
      "website: https://www.washingtonpost.com/world/europe/lead-leak-from-notre-dame-cathedral-fire-prompts-lawsuit/2019/07/29/f5c04d40-b1fb-11e9-acc8-1d847bacca73_story.htmlnumber: 128"
     ]
    },
    {
     "name": "stdout",
     "output_type": "stream",
     "text": [
      "\n"
     ]
    },
    {
     "name": "stdout",
     "output_type": "stream",
     "text": [
      "<title>French group sues over toxic lead from Notre Dame fire - The Washington Post</title>"
     ]
    },
    {
     "name": "stdout",
     "output_type": "stream",
     "text": [
      "\n"
     ]
    },
    {
     "name": "stdout",
     "output_type": "stream",
     "text": [
      "website: https://www.aljazeera.com/news/2019/07/ethics-report-accuses-unrwa-leadership-abuse-power-190726114701787.htmlnumber: 129"
     ]
    },
    {
     "name": "stdout",
     "output_type": "stream",
     "text": [
      "\n"
     ]
    },
    {
     "name": "stdout",
     "output_type": "stream",
     "text": [
      "<title>Ethics report accuses UNRWA leadership of abuse of power |  News | Al Jazeera</title>"
     ]
    },
    {
     "name": "stdout",
     "output_type": "stream",
     "text": [
      "\n"
     ]
    },
    {
     "name": "stdout",
     "output_type": "stream",
     "text": [
      "failed on {'full': 'https://www.independent.co.uk/news/world/middle-east/unrwa-palestine-un-sexual-misconduct-abuse-a9025746.html', 'site': 'co', 'information': '/news/world/middle-east/unrwa-palestine-un-sexual-misconduct-abuse-a9025746.html', 'pic': 'https://static.independent.co.uk/s3fs-public/thumbnails/image/2019/07/29/16/gettyimages-1145577906.jpg'}"
     ]
    },
    {
     "name": "stdout",
     "output_type": "stream",
     "text": [
      "\n"
     ]
    },
    {
     "name": "stdout",
     "output_type": "stream",
     "text": [
      "website: https://www.theguardian.com/world/2019/jul/29/officials-at-un-agency-for-palestinians-accused-of-ethical-abusesnumber: 131"
     ]
    },
    {
     "name": "stdout",
     "output_type": "stream",
     "text": [
      "\n"
     ]
    },
    {
     "name": "stdout",
     "output_type": "stream",
     "text": [
      "<title>Officials at UN agency for Palestinians face ethical abuse claims | World news | The Guardian</title>"
     ]
    },
    {
     "name": "stdout",
     "output_type": "stream",
     "text": [
      "\n"
     ]
    },
    {
     "name": "stdout",
     "output_type": "stream",
     "text": [
      "website: https://www.aljazeera.com/news/2019/07/unrwa-chief-staff-leaves-unacceptable-email-190726121657614.htmlnumber: 132"
     ]
    },
    {
     "name": "stdout",
     "output_type": "stream",
     "text": [
      "\n"
     ]
    },
    {
     "name": "stdout",
     "output_type": "stream",
     "text": [
      "<title>UNRWA chief of staff leaves over 'unacceptable email' |  News | Al Jazeera</title>"
     ]
    },
    {
     "name": "stdout",
     "output_type": "stream",
     "text": [
      "\n"
     ]
    },
    {
     "name": "stdout",
     "output_type": "stream",
     "text": [
      "website: https://www.aljazeera.com/news/2019/07/sudan-school-children-shot-dead-el-obeid-massacre-190729184528614.htmlnumber: 133"
     ]
    },
    {
     "name": "stdout",
     "output_type": "stream",
     "text": [
      "\n"
     ]
    },
    {
     "name": "stdout",
     "output_type": "stream",
     "text": [
      "<title>Four students killed in El-Obeid 'massacre': Sudan opposition | Sudan News | Al Jazeera</title>"
     ]
    },
    {
     "name": "stdout",
     "output_type": "stream",
     "text": [
      "\n"
     ]
    },
    {
     "name": "stdout",
     "output_type": "stream",
     "text": [
      "website: https://www.theguardian.com/world/2019/jul/29/four-teenage-protesters-killed-by-security-forces-in-central-sudannumber: 134"
     ]
    },
    {
     "name": "stdout",
     "output_type": "stream",
     "text": [
      "\n"
     ]
    },
    {
     "name": "stdout",
     "output_type": "stream",
     "text": [
      "<title>Sudan talks cancelled after shooting of child protesters in school uniforms | World news | The Guardian</title>"
     ]
    },
    {
     "name": "stdout",
     "output_type": "stream",
     "text": [
      "\n"
     ]
    },
    {
     "name": "stdout",
     "output_type": "stream",
     "text": [
      "failed on {'full': 'https://www.independent.co.uk/news/world/africa/sudan-protests-death-toll-children-shot-demonstration-a9025741.html', 'site': 'co', 'information': '/news/world/africa/sudan-protests-death-toll-children-shot-demonstration-a9025741.html', 'pic': 'https://static.independent.co.uk/s3fs-public/styles/story_large/public/thumbnails/image/2019/07/15/12/women-at-the-front-of-Sudan.jpg'}"
     ]
    },
    {
     "name": "stdout",
     "output_type": "stream",
     "text": [
      "\n"
     ]
    },
    {
     "name": "stdout",
     "output_type": "stream",
     "text": [
      "website: https://www.reuters.com/article/us-south-sudan-sudan-talks/sudan-extends-ceasefire-with-southern-rebels-idUSKCN1UN0C2number: 136"
     ]
    },
    {
     "name": "stdout",
     "output_type": "stream",
     "text": [
      "\n"
     ]
    },
    {
     "name": "stdout",
     "output_type": "stream",
     "text": [
      "<title>\n                Sudan extends ceasefire with southern rebels - Reuters</title>"
     ]
    },
    {
     "name": "stdout",
     "output_type": "stream",
     "text": [
      "\n"
     ]
    },
    {
     "name": "stdout",
     "output_type": "stream",
     "text": [
      "failed on {'full': 'https://bnonews.com/index.php/2019/07/4-bodies-found-at-home-in-markham-north-of-toronto', 'site': 'bnonews', 'information': '/index.php/2019/07/4-bodies-found-at-home-in-markham-north-of-toronto'}"
     ]
    },
    {
     "name": "stdout",
     "output_type": "stream",
     "text": [
      "\n"
     ]
    },
    {
     "name": "stdout",
     "output_type": "stream",
     "text": [
      "website: https://www.cbc.ca/news/canada/toronto/menhaz-zaman-discord-chat-messages-images-1.5229187number: 138"
     ]
    },
    {
     "name": "stdout",
     "output_type": "stream",
     "text": [
      "\n"
     ]
    },
    {
     "name": "stdout",
     "output_type": "stream",
     "text": [
      "None"
     ]
    },
    {
     "name": "stdout",
     "output_type": "stream",
     "text": [
      "\n"
     ]
    },
    {
     "name": "stdout",
     "output_type": "stream",
     "text": [
      "website: https://canoe.com/news/local-news/four-dead-in-markham-home-suspect-in-custody/wcm/70288985-d30b-4465-807f-4cacdfff6228number: 139"
     ]
    },
    {
     "name": "stdout",
     "output_type": "stream",
     "text": [
      "\n"
     ]
    },
    {
     "name": "stdout",
     "output_type": "stream",
     "text": [
      "<title>\nFour dead in Markham, Ont., home, suspect in custody | Canoe</title>"
     ]
    },
    {
     "name": "stdout",
     "output_type": "stream",
     "text": [
      "\n"
     ]
    },
    {
     "name": "stdout",
     "output_type": "stream",
     "text": [
      "website: https://www.npr.org/sections/goatsandsoda/2019/07/29/744444673/indias-metoo-movement-one-year-onnumber: 140"
     ]
    },
    {
     "name": "stdout",
     "output_type": "stream",
     "text": [
      "\n"
     ]
    },
    {
     "name": "stdout",
     "output_type": "stream",
     "text": [
      "<title>India's #MeToo Movement, One Year On : Goats and Soda : NPR</title>"
     ]
    },
    {
     "name": "stdout",
     "output_type": "stream",
     "text": [
      "\n"
     ]
    },
    {
     "name": "stdout",
     "output_type": "stream",
     "text": [
      "website: https://www.nytimes.com/2019/07/29/world/europe/spain-jose-manuel-villarejo.htmlnumber: 141"
     ]
    },
    {
     "name": "stdout",
     "output_type": "stream",
     "text": [
      "\n"
     ]
    },
    {
     "name": "stdout",
     "output_type": "stream",
     "text": [
      "<title data-rh=\"true\">The Former Police Commissioner Rattling Spain’s Establishment - The New York Times</title>"
     ]
    },
    {
     "name": "stdout",
     "output_type": "stream",
     "text": [
      "\n"
     ]
    },
    {
     "name": "stdout",
     "output_type": "stream",
     "text": [
      "website: https://www.foxnews.com/world/china-activist-sentence-leaking-secretsnumber: 142"
     ]
    },
    {
     "name": "stdout",
     "output_type": "stream",
     "text": [
      "\n"
     ]
    },
    {
     "name": "stdout",
     "output_type": "stream",
     "text": [
      "<title data-n-head=\"true\">China sentences online activist to 12 years in prison for allegedly leaking secrets | Fox News</title>"
     ]
    },
    {
     "name": "stdout",
     "output_type": "stream",
     "text": [
      "\n"
     ]
    },
    {
     "name": "stdout",
     "output_type": "stream",
     "text": [
      "website: https://www.bbc.com/news/technology-49150906number: 143"
     ]
    },
    {
     "name": "stdout",
     "output_type": "stream",
     "text": [
      "\n"
     ]
    },
    {
     "name": "stdout",
     "output_type": "stream",
     "text": [
      "<title>China jails award-winning cyber-dissident Huang Qi - BBC News</title>"
     ]
    },
    {
     "name": "stdout",
     "output_type": "stream",
     "text": [
      "\n"
     ]
    },
    {
     "name": "stdout",
     "output_type": "stream",
     "text": [
      "website: https://www.nytimes.com/2019/07/29/world/asia/china-huang-qi-prison.htmlnumber: 144"
     ]
    },
    {
     "name": "stdout",
     "output_type": "stream",
     "text": [
      "\n"
     ]
    },
    {
     "name": "stdout",
     "output_type": "stream",
     "text": [
      "<title data-rh=\"true\">Chinese Internet Pioneer Who Exposed Misdeeds Gets Heavy Prison Term - The New York Times</title>"
     ]
    },
    {
     "name": "stdout",
     "output_type": "stream",
     "text": [
      "\n"
     ]
    },
    {
     "name": "stdout",
     "output_type": "stream",
     "text": [
      "website: https://www.theguardian.com/world/2019/jul/29/china-first-cyber-dissident-huang-qi-jailed-12-yearsnumber: 145"
     ]
    },
    {
     "name": "stdout",
     "output_type": "stream",
     "text": [
      "\n"
     ]
    },
    {
     "name": "stdout",
     "output_type": "stream",
     "text": [
      "<title>China’s first ‘cyber-dissident’ jailed for 12 years | World news | The Guardian</title>"
     ]
    },
    {
     "name": "stdout",
     "output_type": "stream",
     "text": [
      "\n"
     ]
    },
    {
     "name": "stdout",
     "output_type": "stream",
     "text": [
      "failed on {'full': 'https://www.ndtv.com/world-news/chinas-first-cyber-dissident-gets-12-year-in-jail-for-leaking-state-secrets-court-2077086', 'site': 'ndtv', 'information': '/world-news/chinas-first-cyber-dissident-gets-12-year-in-jail-for-leaking-state-secrets-court-2077086', 'pic': 'https://c.ndtvimg.com/2019-07/povama5o_chinas-first-cyberdissident-afp-650_625x300_29_July_19.jpg'}"
     ]
    },
    {
     "name": "stdout",
     "output_type": "stream",
     "text": [
      "\n"
     ]
    },
    {
     "name": "stdout",
     "output_type": "stream",
     "text": [
      "website: https://www.cnbc.com/2019/07/29/khalid-sheikh-mohammed-of-al-qaeda-could-help-in-saudi-911-case.htmlnumber: 147"
     ]
    },
    {
     "name": "stdout",
     "output_type": "stream",
     "text": [
      "\n"
     ]
    },
    {
     "name": "stdout",
     "output_type": "stream",
     "text": [
      "<title itemprop=\"name\">Khalid Sheikh Mohammed of al-Qaeda could help in Saudi 9/11 case</title>"
     ]
    },
    {
     "name": "stdout",
     "output_type": "stream",
     "text": [
      "\n"
     ]
    },
    {
     "name": "stdout",
     "output_type": "stream",
     "text": [
      "website: https://www.wsj.com/articles/alleged-9-11-mastermind-open-to-helping-victims-lawsuit-if-he-isnt-executed-11564426390number: 148"
     ]
    },
    {
     "name": "stdout",
     "output_type": "stream",
     "text": [
      "\n"
     ]
    },
    {
     "name": "stdout",
     "output_type": "stream",
     "text": [
      "<title>Alleged 9/11 Mastermind Open to Helping Victims’ Lawsuit if U.S. Spares Him Death Penalty - WSJ</title>"
     ]
    },
    {
     "name": "stdout",
     "output_type": "stream",
     "text": [
      "\n"
     ]
    },
    {
     "name": "stdout",
     "output_type": "stream",
     "text": [
      "website: https://thehill.com/policy/international/terrorism/455199-alleged-9-11-mastermind-open-to-aiding-victim-lawsuit-to-avoidnumber: 149"
     ]
    },
    {
     "name": "stdout",
     "output_type": "stream",
     "text": [
      "\n"
     ]
    },
    {
     "name": "stdout",
     "output_type": "stream",
     "text": [
      "<title>Alleged 9/11 mastermind open to aiding victim lawsuit to avoid execution | TheHill</title>"
     ]
    },
    {
     "name": "stdout",
     "output_type": "stream",
     "text": [
      "\n"
     ]
    },
    {
     "name": "stdout",
     "output_type": "stream",
     "text": [
      "website: https://www.aljazeera.com/news/2019/07/accused-911-mastermind-open-testimony-saudi-arabia-190729231512390.htmlnumber: 150"
     ]
    },
    {
     "name": "stdout",
     "output_type": "stream",
     "text": [
      "\n"
     ]
    },
    {
     "name": "stdout",
     "output_type": "stream",
     "text": [
      "<title>Accused 9/11 mastermind open to testimony against Saudi Arabia |  News | Al Jazeera</title>"
     ]
    },
    {
     "name": "stdout",
     "output_type": "stream",
     "text": [
      "\n"
     ]
    },
    {
     "name": "stdout",
     "output_type": "stream",
     "text": [
      "website: https://www.washingtonexaminer.com/news/alleged-9-11-mastermind-attempting-to-avoid-martyrdom-in-lawsuit-against-saudi-arabianumber: 151"
     ]
    },
    {
     "name": "stdout",
     "output_type": "stream",
     "text": [
      "\n"
     ]
    },
    {
     "name": "stdout",
     "output_type": "stream",
     "text": [
      "<title>Alleged 9/11 mastermind attempting to avoid 'martyrdom' in lawsuit against Saudi Arabia</title>"
     ]
    },
    {
     "name": "stdout",
     "output_type": "stream",
     "text": [
      "\n"
     ]
    },
    {
     "name": "stdout",
     "output_type": "stream",
     "text": [
      "website: https://www.npr.org/2019/07/29/746288727/looking-back-at-human-history-archaeologist-suspects-we-re-51-goodnumber: 152"
     ]
    },
    {
     "name": "stdout",
     "output_type": "stream",
     "text": [
      "\n"
     ]
    },
    {
     "name": "stdout",
     "output_type": "stream",
     "text": [
      "<title>'Archaeology From Space': Sarah Parcak Says Human History Gives Her Hope : NPR</title>"
     ]
    },
    {
     "name": "stdout",
     "output_type": "stream",
     "text": [
      "\n"
     ]
    },
    {
     "name": "stdout",
     "output_type": "stream",
     "text": [
      "failed on {'full': 'https://www.independent.co.uk/news/world/asia/unnao-rape-case-death-woman-india-politician-truck-lawyer-kuldeep-sengar-a9025116.html', 'site': 'co', 'information': '/news/world/asia/unnao-rape-case-death-woman-india-politician-truck-lawyer-kuldeep-sengar-a9025116.html', 'pic': 'https://static.independent.co.uk/s3fs-public/thumbnails/image/2019/07/29/11/india-rape-protest.jpg'}"
     ]
    },
    {
     "name": "stdout",
     "output_type": "stream",
     "text": [
      "\n"
     ]
    },
    {
     "name": "stdout",
     "output_type": "stream",
     "text": [
      "website: https://www.aljazeera.com/news/2019/07/india-teen-accused-bjp-leader-rape-critical-crash-190729135032268.htmlnumber: 154"
     ]
    },
    {
     "name": "stdout",
     "output_type": "stream",
     "text": [
      "\n"
     ]
    },
    {
     "name": "stdout",
     "output_type": "stream",
     "text": [
      "<title>India: Teen who accused BJP leader of rape critical after crash | India News | Al Jazeera</title>"
     ]
    },
    {
     "name": "stdout",
     "output_type": "stream",
     "text": [
      "\n"
     ]
    },
    {
     "name": "stdout",
     "output_type": "stream",
     "text": [
      "website: https://in.reuters.com/article/india-politics-rape/rape-accuser-of-bjp-lawmaker-battles-for-life-after-accident-idINKCN1UO1FHnumber: 155"
     ]
    },
    {
     "name": "stdout",
     "output_type": "stream",
     "text": [
      "\n"
     ]
    },
    {
     "name": "stdout",
     "output_type": "stream",
     "text": [
      "<title>\n                Rape accuser of BJP lawmaker battles for life after accident - Reuters</title>"
     ]
    },
    {
     "name": "stdout",
     "output_type": "stream",
     "text": [
      "\n"
     ]
    },
    {
     "name": "stdout",
     "output_type": "stream",
     "text": [
      "website: https://www.theguardian.com/world/2019/jul/29/indian-teenager-accused-politician-injured-car-crash-uttar-pradeshnumber: 156"
     ]
    },
    {
     "name": "stdout",
     "output_type": "stream",
     "text": [
      "\n"
     ]
    },
    {
     "name": "stdout",
     "output_type": "stream",
     "text": [
      "<title>Indian teenager who accused politician of rape injured in crash | World news | The Guardian</title>"
     ]
    },
    {
     "name": "stdout",
     "output_type": "stream",
     "text": [
      "\n"
     ]
    },
    {
     "name": "stdout",
     "output_type": "stream",
     "text": [
      "website: https://www.telegraph.co.uk/news/2019/07/29/family-cries-foul-play-teen-accused-indian-politician-rape-battlesnumber: 157"
     ]
    },
    {
     "name": "stdout",
     "output_type": "stream",
     "text": [
      "\n"
     ]
    },
    {
     "name": "stdout",
     "output_type": "stream",
     "text": [
      "<title>Family cries foul play as teen who accused Indian politician of rape battles for life after accident</title>"
     ]
    },
    {
     "name": "stdout",
     "output_type": "stream",
     "text": [
      "\n"
     ]
    },
    {
     "name": "stdout",
     "output_type": "stream",
     "text": [
      "website: https://www.cnn.com/2019/07/29/asia/vietnam-rhino-horn-tiger-seized-intl-hnk/index.htmlnumber: 158"
     ]
    },
    {
     "name": "stdout",
     "output_type": "stream",
     "text": [
      "\n"
     ]
    },
    {
     "name": "stdout",
     "output_type": "stream",
     "text": [
      "<title>Vietnam seizes 125 kilogram haul of trafficked rhino horn - CNN</title>"
     ]
    },
    {
     "name": "stdout",
     "output_type": "stream",
     "text": [
      "\n"
     ]
    },
    {
     "name": "stdout",
     "output_type": "stream",
     "text": [
      "website: https://www.theguardian.com/world/2019/jul/29/vietnam-seizes-125kg-of-smuggled-rhino-tusks-worth-75mnumber: 159"
     ]
    },
    {
     "name": "stdout",
     "output_type": "stream",
     "text": [
      "\n"
     ]
    },
    {
     "name": "stdout",
     "output_type": "stream",
     "text": [
      "<title>Vietnam seizes 125kg of smuggled rhino horns worth $7.5m | World news | The Guardian</title>"
     ]
    },
    {
     "name": "stdout",
     "output_type": "stream",
     "text": [
      "\n"
     ]
    },
    {
     "name": "stdout",
     "output_type": "stream",
     "text": [
      "website: https://www.dailymail.co.uk/news/article-7297095/Huge-haul-55-rhino-horns-worth-3-2m-plaster-blocks-Vietnam.htmlnumber: 160"
     ]
    },
    {
     "name": "stdout",
     "output_type": "stream",
     "text": [
      "\n"
     ]
    },
    {
     "name": "stdout",
     "output_type": "stream",
     "text": [
      "<title>Huge haul of 55 rhino horns worth £3.2m is found in plaster blocks in Vietnam | Daily Mail Online</title>"
     ]
    },
    {
     "name": "stdout",
     "output_type": "stream",
     "text": [
      "\n"
     ]
    },
    {
     "name": "stdout",
     "output_type": "stream",
     "text": [
      "website: https://www.thesun.co.uk/news/9601506/dead-tiger-cubs-smuggled-wildlife-traffickers-frozen-car-vietnamnumber: 161"
     ]
    },
    {
     "name": "stdout",
     "output_type": "stream",
     "text": [
      "\n"
     ]
    },
    {
     "name": "stdout",
     "output_type": "stream",
     "text": [
      "<title>Seven dead tiger cubs found frozen in back of car in Vietnam after being ‘smuggled by wildlife traffickers’ – The Sun</title>"
     ]
    },
    {
     "name": "stdout",
     "output_type": "stream",
     "text": [
      "\n"
     ]
    },
    {
     "name": "stdout",
     "output_type": "stream",
     "text": [
      "website: https://www.aljazeera.com/news/2019/07/vietnam-seizes-55-pieces-rhino-horn-hidden-plaster-190728083054797.htmlnumber: 162"
     ]
    },
    {
     "name": "stdout",
     "output_type": "stream",
     "text": [
      "\n"
     ]
    },
    {
     "name": "stdout",
     "output_type": "stream",
     "text": [
      "<title>Vietnam seizes 55 pieces of rhino horn hidden in plaster |  News | Al Jazeera</title>"
     ]
    },
    {
     "name": "stdout",
     "output_type": "stream",
     "text": [
      "\n"
     ]
    },
    {
     "name": "stdout",
     "output_type": "stream",
     "text": [
      "website: https://www.reuters.com/article/uk-britain-eu-financial/eu-signals-tighter-financial-market-access-after-brexit-idUSKCN1UO1F8number: 163"
     ]
    },
    {
     "name": "stdout",
     "output_type": "stream",
     "text": [
      "\n"
     ]
    },
    {
     "name": "stdout",
     "output_type": "stream",
     "text": [
      "<title>\n                EU signals tighter financial market access after Brexit - Reuters</title>"
     ]
    },
    {
     "name": "stdout",
     "output_type": "stream",
     "text": [
      "\n"
     ]
    },
    {
     "name": "stdout",
     "output_type": "stream",
     "text": [
      "website: https://www.cnn.com/2019/07/24/business/us-china-trade-war/index.htmlnumber: 164"
     ]
    },
    {
     "name": "stdout",
     "output_type": "stream",
     "text": [
      "\n"
     ]
    },
    {
     "name": "stdout",
     "output_type": "stream",
     "text": [
      "<title>The US and China are talking again. But they're still trading accusations - CNN</title>"
     ]
    },
    {
     "name": "stdout",
     "output_type": "stream",
     "text": [
      "\n"
     ]
    },
    {
     "name": "stdout",
     "output_type": "stream",
     "text": [
      "website: https://thehill.com/policy/international/455184-ethiopia-plants-over-350-million-tree-seedlings-in-one-day-to-fightnumber: 165"
     ]
    },
    {
     "name": "stdout",
     "output_type": "stream",
     "text": [
      "\n"
     ]
    },
    {
     "name": "stdout",
     "output_type": "stream",
     "text": [
      "<title>Ethiopia plants more than 350 million tree seedlings in one day to fight climate change | TheHill</title>"
     ]
    },
    {
     "name": "stdout",
     "output_type": "stream",
     "text": [
      "\n"
     ]
    },
    {
     "name": "stdout",
     "output_type": "stream",
     "text": [
      "website: https://www.bbc.com/news/world-africa-49151523number: 166"
     ]
    },
    {
     "name": "stdout",
     "output_type": "stream",
     "text": [
      "\n"
     ]
    },
    {
     "name": "stdout",
     "output_type": "stream",
     "text": [
      "<title>Ethiopia 'breaks' tree-planting record to tackle climate change - BBC News</title>"
     ]
    },
    {
     "name": "stdout",
     "output_type": "stream",
     "text": [
      "\n"
     ]
    },
    {
     "name": "stdout",
     "output_type": "stream",
     "text": [
      "website: https://www.theguardian.com/world/2019/jul/29/ethiopia-plants-250m-trees-in-a-day-to-help-tackle-climate-crisisnumber: 167"
     ]
    },
    {
     "name": "stdout",
     "output_type": "stream",
     "text": [
      "\n"
     ]
    },
    {
     "name": "stdout",
     "output_type": "stream",
     "text": [
      "<title>Ethiopia plants 350m trees in a day to help tackle climate crisis | World news | The Guardian</title>"
     ]
    },
    {
     "name": "stdout",
     "output_type": "stream",
     "text": [
      "\n"
     ]
    },
    {
     "name": "stdout",
     "output_type": "stream",
     "text": [
      "website: https://www.telegraph.co.uk/news/2019/07/29/ethiopians-plant-200-million-trees-single-day-bid-restore-landscapenumber: 168"
     ]
    },
    {
     "name": "stdout",
     "output_type": "stream",
     "text": [
      "\n"
     ]
    },
    {
     "name": "stdout",
     "output_type": "stream",
     "text": [
      "<title>Ethiopians plant more than 200 million trees in a single day in bid to restore landscape</title>"
     ]
    },
    {
     "name": "stdout",
     "output_type": "stream",
     "text": [
      "\n"
     ]
    },
    {
     "name": "stdout",
     "output_type": "stream",
     "text": [
      "website: https://www.bloomberg.com/news/articles/2019-07-29/ethiopia-plants-350-million-trees-in-one-day-to-combat-droughtnumber: 169"
     ]
    },
    {
     "name": "stdout",
     "output_type": "stream",
     "text": [
      "\n"
     ]
    },
    {
     "name": "stdout",
     "output_type": "stream",
     "text": [
      "<title>Bloomberg - Are you a robot?</title>"
     ]
    },
    {
     "name": "stdout",
     "output_type": "stream",
     "text": [
      "\n"
     ]
    },
    {
     "name": "stdout",
     "output_type": "stream",
     "text": [
      "website: https://www.cnbc.com/2019/07/29/inside-trumps-apprentice-worthy-showdown-with-airline-ceos.htmlnumber: 170"
     ]
    },
    {
     "name": "stdout",
     "output_type": "stream",
     "text": [
      "\n"
     ]
    },
    {
     "name": "stdout",
     "output_type": "stream",
     "text": [
      "<title itemprop=\"name\">Inside Trump's 'Apprentice'-worthy showdown with airline CEOs</title>"
     ]
    },
    {
     "name": "stdout",
     "output_type": "stream",
     "text": [
      "\n"
     ]
    },
    {
     "name": "stdout",
     "output_type": "stream",
     "text": [
      "website: https://www.cnn.com/2019/07/27/us/puerto-rico-governor-scandal-timeline/index.htmlnumber: 171"
     ]
    },
    {
     "name": "stdout",
     "output_type": "stream",
     "text": [
      "\n"
     ]
    },
    {
     "name": "stdout",
     "output_type": "stream",
     "text": [
      "<title>Puerto Rico's governor downfall: A timeline  - CNN</title>"
     ]
    },
    {
     "name": "stdout",
     "output_type": "stream",
     "text": [
      "\n"
     ]
    },
    {
     "ename": "KeyboardInterrupt",
     "evalue": "",
     "traceback": [
      "\u001b[1;31m---------------------------------------------------------------------------\u001b[0m",
      "\u001b[1;31mKeyboardInterrupt\u001b[0m                         Traceback (most recent call last)",
      "\u001b[1;32m<ipython-input-42-d51bef34c186>\u001b[0m in \u001b[0;36m<module>\u001b[1;34m\u001b[0m\n\u001b[0;32m      2\u001b[0m \u001b[1;32mfor\u001b[0m \u001b[0mc\u001b[0m\u001b[1;33m,\u001b[0m\u001b[0mi\u001b[0m \u001b[1;32min\u001b[0m \u001b[0menumerate\u001b[0m\u001b[1;33m(\u001b[0m\u001b[0mnewforce\u001b[0m\u001b[1;33m)\u001b[0m\u001b[1;33m:\u001b[0m\u001b[1;33m\u001b[0m\u001b[0m\n\u001b[0;32m      3\u001b[0m     \u001b[1;32mtry\u001b[0m\u001b[1;33m:\u001b[0m\u001b[1;33m\u001b[0m\u001b[0m\n\u001b[1;32m----> 4\u001b[1;33m         \u001b[0mbrought\u001b[0m\u001b[1;33m=\u001b[0m\u001b[0murllib\u001b[0m\u001b[1;33m.\u001b[0m\u001b[0mrequest\u001b[0m\u001b[1;33m.\u001b[0m\u001b[0murlopen\u001b[0m\u001b[1;33m(\u001b[0m\u001b[0mi\u001b[0m\u001b[1;33m[\u001b[0m\u001b[1;34m'full'\u001b[0m\u001b[1;33m]\u001b[0m\u001b[1;33m)\u001b[0m\u001b[1;33m.\u001b[0m\u001b[0mread\u001b[0m\u001b[1;33m(\u001b[0m\u001b[1;33m)\u001b[0m\u001b[1;33m\u001b[0m\u001b[0m\n\u001b[0m\u001b[0;32m      5\u001b[0m         \u001b[0mloaded_sites\u001b[0m\u001b[1;33m.\u001b[0m\u001b[0mappend\u001b[0m\u001b[1;33m(\u001b[0m\u001b[0msp\u001b[0m\u001b[1;33m)\u001b[0m\u001b[1;33m\u001b[0m\u001b[0m\n\u001b[0;32m      6\u001b[0m         \u001b[0mprint\u001b[0m\u001b[1;33m(\u001b[0m\u001b[1;34m'website: '\u001b[0m\u001b[1;33m+\u001b[0m\u001b[0mi\u001b[0m\u001b[1;33m[\u001b[0m\u001b[1;34m'full'\u001b[0m\u001b[1;33m]\u001b[0m\u001b[1;33m+\u001b[0m\u001b[1;34m'number: '\u001b[0m\u001b[1;33m+\u001b[0m\u001b[0mstr\u001b[0m\u001b[1;33m(\u001b[0m\u001b[0mc\u001b[0m\u001b[1;33m)\u001b[0m\u001b[1;33m)\u001b[0m\u001b[1;33m\u001b[0m\u001b[0m\n",
      "\u001b[1;32m~\\Anaconda3\\Lib\\urllib\\request.py\u001b[0m in \u001b[0;36murlopen\u001b[1;34m(url, data, timeout, cafile, capath, cadefault, context)\u001b[0m\n\u001b[0;32m    220\u001b[0m     \u001b[1;32melse\u001b[0m\u001b[1;33m:\u001b[0m\u001b[1;33m\u001b[0m\u001b[0m\n\u001b[0;32m    221\u001b[0m         \u001b[0mopener\u001b[0m \u001b[1;33m=\u001b[0m \u001b[0m_opener\u001b[0m\u001b[1;33m\u001b[0m\u001b[0m\n\u001b[1;32m--> 222\u001b[1;33m     \u001b[1;32mreturn\u001b[0m \u001b[0mopener\u001b[0m\u001b[1;33m.\u001b[0m\u001b[0mopen\u001b[0m\u001b[1;33m(\u001b[0m\u001b[0murl\u001b[0m\u001b[1;33m,\u001b[0m \u001b[0mdata\u001b[0m\u001b[1;33m,\u001b[0m \u001b[0mtimeout\u001b[0m\u001b[1;33m)\u001b[0m\u001b[1;33m\u001b[0m\u001b[0m\n\u001b[0m\u001b[0;32m    223\u001b[0m \u001b[1;33m\u001b[0m\u001b[0m\n\u001b[0;32m    224\u001b[0m \u001b[1;32mdef\u001b[0m \u001b[0minstall_opener\u001b[0m\u001b[1;33m(\u001b[0m\u001b[0mopener\u001b[0m\u001b[1;33m)\u001b[0m\u001b[1;33m:\u001b[0m\u001b[1;33m\u001b[0m\u001b[0m\n",
      "\u001b[1;32m~\\Anaconda3\\Lib\\urllib\\request.py\u001b[0m in \u001b[0;36mopen\u001b[1;34m(self, fullurl, data, timeout)\u001b[0m\n\u001b[0;32m    523\u001b[0m             \u001b[0mreq\u001b[0m \u001b[1;33m=\u001b[0m \u001b[0mmeth\u001b[0m\u001b[1;33m(\u001b[0m\u001b[0mreq\u001b[0m\u001b[1;33m)\u001b[0m\u001b[1;33m\u001b[0m\u001b[0m\n\u001b[0;32m    524\u001b[0m \u001b[1;33m\u001b[0m\u001b[0m\n\u001b[1;32m--> 525\u001b[1;33m         \u001b[0mresponse\u001b[0m \u001b[1;33m=\u001b[0m \u001b[0mself\u001b[0m\u001b[1;33m.\u001b[0m\u001b[0m_open\u001b[0m\u001b[1;33m(\u001b[0m\u001b[0mreq\u001b[0m\u001b[1;33m,\u001b[0m \u001b[0mdata\u001b[0m\u001b[1;33m)\u001b[0m\u001b[1;33m\u001b[0m\u001b[0m\n\u001b[0m\u001b[0;32m    526\u001b[0m \u001b[1;33m\u001b[0m\u001b[0m\n\u001b[0;32m    527\u001b[0m         \u001b[1;31m# post-process response\u001b[0m\u001b[1;33m\u001b[0m\u001b[1;33m\u001b[0m\u001b[0m\n",
      "\u001b[1;32m~\\Anaconda3\\Lib\\urllib\\request.py\u001b[0m in \u001b[0;36m_open\u001b[1;34m(self, req, data)\u001b[0m\n\u001b[0;32m    541\u001b[0m         \u001b[0mprotocol\u001b[0m \u001b[1;33m=\u001b[0m \u001b[0mreq\u001b[0m\u001b[1;33m.\u001b[0m\u001b[0mtype\u001b[0m\u001b[1;33m\u001b[0m\u001b[0m\n\u001b[0;32m    542\u001b[0m         result = self._call_chain(self.handle_open, protocol, protocol +\n\u001b[1;32m--> 543\u001b[1;33m                                   '_open', req)\n\u001b[0m\u001b[0;32m    544\u001b[0m         \u001b[1;32mif\u001b[0m \u001b[0mresult\u001b[0m\u001b[1;33m:\u001b[0m\u001b[1;33m\u001b[0m\u001b[0m\n\u001b[0;32m    545\u001b[0m             \u001b[1;32mreturn\u001b[0m \u001b[0mresult\u001b[0m\u001b[1;33m\u001b[0m\u001b[0m\n",
      "\u001b[1;32m~\\Anaconda3\\Lib\\urllib\\request.py\u001b[0m in \u001b[0;36m_call_chain\u001b[1;34m(self, chain, kind, meth_name, *args)\u001b[0m\n\u001b[0;32m    501\u001b[0m         \u001b[1;32mfor\u001b[0m \u001b[0mhandler\u001b[0m \u001b[1;32min\u001b[0m \u001b[0mhandlers\u001b[0m\u001b[1;33m:\u001b[0m\u001b[1;33m\u001b[0m\u001b[0m\n\u001b[0;32m    502\u001b[0m             \u001b[0mfunc\u001b[0m \u001b[1;33m=\u001b[0m \u001b[0mgetattr\u001b[0m\u001b[1;33m(\u001b[0m\u001b[0mhandler\u001b[0m\u001b[1;33m,\u001b[0m \u001b[0mmeth_name\u001b[0m\u001b[1;33m)\u001b[0m\u001b[1;33m\u001b[0m\u001b[0m\n\u001b[1;32m--> 503\u001b[1;33m             \u001b[0mresult\u001b[0m \u001b[1;33m=\u001b[0m \u001b[0mfunc\u001b[0m\u001b[1;33m(\u001b[0m\u001b[1;33m*\u001b[0m\u001b[0margs\u001b[0m\u001b[1;33m)\u001b[0m\u001b[1;33m\u001b[0m\u001b[0m\n\u001b[0m\u001b[0;32m    504\u001b[0m             \u001b[1;32mif\u001b[0m \u001b[0mresult\u001b[0m \u001b[1;32mis\u001b[0m \u001b[1;32mnot\u001b[0m \u001b[1;32mNone\u001b[0m\u001b[1;33m:\u001b[0m\u001b[1;33m\u001b[0m\u001b[0m\n\u001b[0;32m    505\u001b[0m                 \u001b[1;32mreturn\u001b[0m \u001b[0mresult\u001b[0m\u001b[1;33m\u001b[0m\u001b[0m\n",
      "\u001b[1;32m~\\Anaconda3\\Lib\\urllib\\request.py\u001b[0m in \u001b[0;36mhttps_open\u001b[1;34m(self, req)\u001b[0m\n\u001b[0;32m   1358\u001b[0m         \u001b[1;32mdef\u001b[0m \u001b[0mhttps_open\u001b[0m\u001b[1;33m(\u001b[0m\u001b[0mself\u001b[0m\u001b[1;33m,\u001b[0m \u001b[0mreq\u001b[0m\u001b[1;33m)\u001b[0m\u001b[1;33m:\u001b[0m\u001b[1;33m\u001b[0m\u001b[0m\n\u001b[0;32m   1359\u001b[0m             return self.do_open(http.client.HTTPSConnection, req,\n\u001b[1;32m-> 1360\u001b[1;33m                 context=self._context, check_hostname=self._check_hostname)\n\u001b[0m\u001b[0;32m   1361\u001b[0m \u001b[1;33m\u001b[0m\u001b[0m\n\u001b[0;32m   1362\u001b[0m         \u001b[0mhttps_request\u001b[0m \u001b[1;33m=\u001b[0m \u001b[0mAbstractHTTPHandler\u001b[0m\u001b[1;33m.\u001b[0m\u001b[0mdo_request_\u001b[0m\u001b[1;33m\u001b[0m\u001b[0m\n",
      "\u001b[1;32m~\\Anaconda3\\Lib\\urllib\\request.py\u001b[0m in \u001b[0;36mdo_open\u001b[1;34m(self, http_class, req, **http_conn_args)\u001b[0m\n\u001b[0;32m   1318\u001b[0m             \u001b[1;32mexcept\u001b[0m \u001b[0mOSError\u001b[0m \u001b[1;32mas\u001b[0m \u001b[0merr\u001b[0m\u001b[1;33m:\u001b[0m \u001b[1;31m# timeout error\u001b[0m\u001b[1;33m\u001b[0m\u001b[0m\n\u001b[0;32m   1319\u001b[0m                 \u001b[1;32mraise\u001b[0m \u001b[0mURLError\u001b[0m\u001b[1;33m(\u001b[0m\u001b[0merr\u001b[0m\u001b[1;33m)\u001b[0m\u001b[1;33m\u001b[0m\u001b[0m\n\u001b[1;32m-> 1320\u001b[1;33m             \u001b[0mr\u001b[0m \u001b[1;33m=\u001b[0m \u001b[0mh\u001b[0m\u001b[1;33m.\u001b[0m\u001b[0mgetresponse\u001b[0m\u001b[1;33m(\u001b[0m\u001b[1;33m)\u001b[0m\u001b[1;33m\u001b[0m\u001b[0m\n\u001b[0m\u001b[0;32m   1321\u001b[0m         \u001b[1;32mexcept\u001b[0m\u001b[1;33m:\u001b[0m\u001b[1;33m\u001b[0m\u001b[0m\n\u001b[0;32m   1322\u001b[0m             \u001b[0mh\u001b[0m\u001b[1;33m.\u001b[0m\u001b[0mclose\u001b[0m\u001b[1;33m(\u001b[0m\u001b[1;33m)\u001b[0m\u001b[1;33m\u001b[0m\u001b[0m\n",
      "\u001b[1;32m~\\Anaconda3\\Lib\\http\\client.py\u001b[0m in \u001b[0;36mgetresponse\u001b[1;34m(self)\u001b[0m\n\u001b[0;32m   1319\u001b[0m         \u001b[1;32mtry\u001b[0m\u001b[1;33m:\u001b[0m\u001b[1;33m\u001b[0m\u001b[0m\n\u001b[0;32m   1320\u001b[0m             \u001b[1;32mtry\u001b[0m\u001b[1;33m:\u001b[0m\u001b[1;33m\u001b[0m\u001b[0m\n\u001b[1;32m-> 1321\u001b[1;33m                 \u001b[0mresponse\u001b[0m\u001b[1;33m.\u001b[0m\u001b[0mbegin\u001b[0m\u001b[1;33m(\u001b[0m\u001b[1;33m)\u001b[0m\u001b[1;33m\u001b[0m\u001b[0m\n\u001b[0m\u001b[0;32m   1322\u001b[0m             \u001b[1;32mexcept\u001b[0m \u001b[0mConnectionError\u001b[0m\u001b[1;33m:\u001b[0m\u001b[1;33m\u001b[0m\u001b[0m\n\u001b[0;32m   1323\u001b[0m                 \u001b[0mself\u001b[0m\u001b[1;33m.\u001b[0m\u001b[0mclose\u001b[0m\u001b[1;33m(\u001b[0m\u001b[1;33m)\u001b[0m\u001b[1;33m\u001b[0m\u001b[0m\n",
      "\u001b[1;32m~\\Anaconda3\\Lib\\http\\client.py\u001b[0m in \u001b[0;36mbegin\u001b[1;34m(self)\u001b[0m\n\u001b[0;32m    294\u001b[0m         \u001b[1;31m# read until we get a non-100 response\u001b[0m\u001b[1;33m\u001b[0m\u001b[1;33m\u001b[0m\u001b[0m\n\u001b[0;32m    295\u001b[0m         \u001b[1;32mwhile\u001b[0m \u001b[1;32mTrue\u001b[0m\u001b[1;33m:\u001b[0m\u001b[1;33m\u001b[0m\u001b[0m\n\u001b[1;32m--> 296\u001b[1;33m             \u001b[0mversion\u001b[0m\u001b[1;33m,\u001b[0m \u001b[0mstatus\u001b[0m\u001b[1;33m,\u001b[0m \u001b[0mreason\u001b[0m \u001b[1;33m=\u001b[0m \u001b[0mself\u001b[0m\u001b[1;33m.\u001b[0m\u001b[0m_read_status\u001b[0m\u001b[1;33m(\u001b[0m\u001b[1;33m)\u001b[0m\u001b[1;33m\u001b[0m\u001b[0m\n\u001b[0m\u001b[0;32m    297\u001b[0m             \u001b[1;32mif\u001b[0m \u001b[0mstatus\u001b[0m \u001b[1;33m!=\u001b[0m \u001b[0mCONTINUE\u001b[0m\u001b[1;33m:\u001b[0m\u001b[1;33m\u001b[0m\u001b[0m\n\u001b[0;32m    298\u001b[0m                 \u001b[1;32mbreak\u001b[0m\u001b[1;33m\u001b[0m\u001b[0m\n",
      "\u001b[1;32m~\\Anaconda3\\Lib\\http\\client.py\u001b[0m in \u001b[0;36m_read_status\u001b[1;34m(self)\u001b[0m\n\u001b[0;32m    255\u001b[0m \u001b[1;33m\u001b[0m\u001b[0m\n\u001b[0;32m    256\u001b[0m     \u001b[1;32mdef\u001b[0m \u001b[0m_read_status\u001b[0m\u001b[1;33m(\u001b[0m\u001b[0mself\u001b[0m\u001b[1;33m)\u001b[0m\u001b[1;33m:\u001b[0m\u001b[1;33m\u001b[0m\u001b[0m\n\u001b[1;32m--> 257\u001b[1;33m         \u001b[0mline\u001b[0m \u001b[1;33m=\u001b[0m \u001b[0mstr\u001b[0m\u001b[1;33m(\u001b[0m\u001b[0mself\u001b[0m\u001b[1;33m.\u001b[0m\u001b[0mfp\u001b[0m\u001b[1;33m.\u001b[0m\u001b[0mreadline\u001b[0m\u001b[1;33m(\u001b[0m\u001b[0m_MAXLINE\u001b[0m \u001b[1;33m+\u001b[0m \u001b[1;36m1\u001b[0m\u001b[1;33m)\u001b[0m\u001b[1;33m,\u001b[0m \u001b[1;34m\"iso-8859-1\"\u001b[0m\u001b[1;33m)\u001b[0m\u001b[1;33m\u001b[0m\u001b[0m\n\u001b[0m\u001b[0;32m    258\u001b[0m         \u001b[1;32mif\u001b[0m \u001b[0mlen\u001b[0m\u001b[1;33m(\u001b[0m\u001b[0mline\u001b[0m\u001b[1;33m)\u001b[0m \u001b[1;33m>\u001b[0m \u001b[0m_MAXLINE\u001b[0m\u001b[1;33m:\u001b[0m\u001b[1;33m\u001b[0m\u001b[0m\n\u001b[0;32m    259\u001b[0m             \u001b[1;32mraise\u001b[0m \u001b[0mLineTooLong\u001b[0m\u001b[1;33m(\u001b[0m\u001b[1;34m\"status line\"\u001b[0m\u001b[1;33m)\u001b[0m\u001b[1;33m\u001b[0m\u001b[0m\n",
      "\u001b[1;32m~\\Anaconda3\\Lib\\socket.py\u001b[0m in \u001b[0;36mreadinto\u001b[1;34m(self, b)\u001b[0m\n\u001b[0;32m    587\u001b[0m         \u001b[1;32mwhile\u001b[0m \u001b[1;32mTrue\u001b[0m\u001b[1;33m:\u001b[0m\u001b[1;33m\u001b[0m\u001b[0m\n\u001b[0;32m    588\u001b[0m             \u001b[1;32mtry\u001b[0m\u001b[1;33m:\u001b[0m\u001b[1;33m\u001b[0m\u001b[0m\n\u001b[1;32m--> 589\u001b[1;33m                 \u001b[1;32mreturn\u001b[0m \u001b[0mself\u001b[0m\u001b[1;33m.\u001b[0m\u001b[0m_sock\u001b[0m\u001b[1;33m.\u001b[0m\u001b[0mrecv_into\u001b[0m\u001b[1;33m(\u001b[0m\u001b[0mb\u001b[0m\u001b[1;33m)\u001b[0m\u001b[1;33m\u001b[0m\u001b[0m\n\u001b[0m\u001b[0;32m    590\u001b[0m             \u001b[1;32mexcept\u001b[0m \u001b[0mtimeout\u001b[0m\u001b[1;33m:\u001b[0m\u001b[1;33m\u001b[0m\u001b[0m\n\u001b[0;32m    591\u001b[0m                 \u001b[0mself\u001b[0m\u001b[1;33m.\u001b[0m\u001b[0m_timeout_occurred\u001b[0m \u001b[1;33m=\u001b[0m \u001b[1;32mTrue\u001b[0m\u001b[1;33m\u001b[0m\u001b[0m\n",
      "\u001b[1;32m~\\Anaconda3\\Lib\\ssl.py\u001b[0m in \u001b[0;36mrecv_into\u001b[1;34m(self, buffer, nbytes, flags)\u001b[0m\n\u001b[0;32m   1047\u001b[0m                   \u001b[1;34m\"non-zero flags not allowed in calls to recv_into() on %s\"\u001b[0m \u001b[1;33m%\u001b[0m\u001b[1;33m\u001b[0m\u001b[0m\n\u001b[0;32m   1048\u001b[0m                   self.__class__)\n\u001b[1;32m-> 1049\u001b[1;33m             \u001b[1;32mreturn\u001b[0m \u001b[0mself\u001b[0m\u001b[1;33m.\u001b[0m\u001b[0mread\u001b[0m\u001b[1;33m(\u001b[0m\u001b[0mnbytes\u001b[0m\u001b[1;33m,\u001b[0m \u001b[0mbuffer\u001b[0m\u001b[1;33m)\u001b[0m\u001b[1;33m\u001b[0m\u001b[0m\n\u001b[0m\u001b[0;32m   1050\u001b[0m         \u001b[1;32melse\u001b[0m\u001b[1;33m:\u001b[0m\u001b[1;33m\u001b[0m\u001b[0m\n\u001b[0;32m   1051\u001b[0m             \u001b[1;32mreturn\u001b[0m \u001b[0msuper\u001b[0m\u001b[1;33m(\u001b[0m\u001b[1;33m)\u001b[0m\u001b[1;33m.\u001b[0m\u001b[0mrecv_into\u001b[0m\u001b[1;33m(\u001b[0m\u001b[0mbuffer\u001b[0m\u001b[1;33m,\u001b[0m \u001b[0mnbytes\u001b[0m\u001b[1;33m,\u001b[0m \u001b[0mflags\u001b[0m\u001b[1;33m)\u001b[0m\u001b[1;33m\u001b[0m\u001b[0m\n",
      "\u001b[1;32m~\\Anaconda3\\Lib\\ssl.py\u001b[0m in \u001b[0;36mread\u001b[1;34m(self, len, buffer)\u001b[0m\n\u001b[0;32m    906\u001b[0m         \u001b[1;32mtry\u001b[0m\u001b[1;33m:\u001b[0m\u001b[1;33m\u001b[0m\u001b[0m\n\u001b[0;32m    907\u001b[0m             \u001b[1;32mif\u001b[0m \u001b[0mbuffer\u001b[0m \u001b[1;32mis\u001b[0m \u001b[1;32mnot\u001b[0m \u001b[1;32mNone\u001b[0m\u001b[1;33m:\u001b[0m\u001b[1;33m\u001b[0m\u001b[0m\n\u001b[1;32m--> 908\u001b[1;33m                 \u001b[1;32mreturn\u001b[0m \u001b[0mself\u001b[0m\u001b[1;33m.\u001b[0m\u001b[0m_sslobj\u001b[0m\u001b[1;33m.\u001b[0m\u001b[0mread\u001b[0m\u001b[1;33m(\u001b[0m\u001b[0mlen\u001b[0m\u001b[1;33m,\u001b[0m \u001b[0mbuffer\u001b[0m\u001b[1;33m)\u001b[0m\u001b[1;33m\u001b[0m\u001b[0m\n\u001b[0m\u001b[0;32m    909\u001b[0m             \u001b[1;32melse\u001b[0m\u001b[1;33m:\u001b[0m\u001b[1;33m\u001b[0m\u001b[0m\n\u001b[0;32m    910\u001b[0m                 \u001b[1;32mreturn\u001b[0m \u001b[0mself\u001b[0m\u001b[1;33m.\u001b[0m\u001b[0m_sslobj\u001b[0m\u001b[1;33m.\u001b[0m\u001b[0mread\u001b[0m\u001b[1;33m(\u001b[0m\u001b[0mlen\u001b[0m\u001b[1;33m)\u001b[0m\u001b[1;33m\u001b[0m\u001b[0m\n",
      "\u001b[1;31mKeyboardInterrupt\u001b[0m: "
     ],
     "output_type": "error"
    }
   ],
   "source": [
    "loaded_sites = list()\n",
    "for c,i in enumerate(newforce):\n",
    "    try:\n",
    "        brought=urllib.request.urlopen(i['full']).read()\n",
    "        loaded_sites.append(brought)\n",
    "        sp = BeautifulSoup(brought,'html.parser')\n",
    "    except urllib.error.HTTPError:\n",
    "        print(\"failed on \"+str(i))\n",
    "    except Exception as e:\n",
    "        print('failed on '+str(i)+'with exception'+str(e))"
   ]
  },
  {
   "cell_type": "code",
   "execution_count": 73,
   "metadata": {},
   "outputs": [
    {
     "name": "stdout",
     "output_type": "stream",
     "text": [
      "Prison riot in Brazil leaves 16 inmates decapitated and dozens more killed - CNN\nBreaking News\nPrison riot in Brazil leaves 16 inmates decapitated and dozens more killedBy Tatiana Arias and Ivana Kottasová, CNNUpdated 9:19 AM ET, Tue July 30, 2019 Chat with us in Facebook Messenger. Find out what's happening in the world as it unfolds.JUST WATCHEDPrison riot leaves 16 inmates decapitated and dozens more killedReplayMore Videos ...MUST WATCH (15 Videos)Prison riot leaves 16 inmates decapitated and dozens more killedBoris Johnson's party suffers by-election defeatA spiraling glass walkway is opening in ChinaSee a crowd catch a boy who fell from a sixth-floor balconySurgical plate found in 15-foot crocodile's stomachSee this freight train derail and spill its cargoMilitary plane crashes near city killing over a dozen peopleRussian opposition leader says he was poisoned in custodyDozens killed after militants open fire at a funeralCNN reporter and crew hit by tear gas in Hong KongTiger beaten to death by villagers in IndiaCoren: Protesters were peaceful, then riot police chargedPhoto leaked of US teen in custody over officer's killingMassive dinosaur bone found in FranceUS water polo players hurt during collapse at Coyote Ugly nightclub (CNN)At least 57 people were killed, including 16 who were decapitated, during a vicious gang battle that erupted in a prison in northern Brazil on Monday morning.The unrest is reported to have begun when a local gang stormed a wing of the facility in Para state controlled by a rival group, state news reported. The majority of the victims are believed to have died from asphyxiation, after gang members set fire to part of the prison complex. State media said the violence began around 7 a.m., local time in the Regional Recovery Center in the city of Altamira and lasted for several hours. Video of the scene showed prisoners sat on the roof of the building, brandishing knifes and with their heads covered, amid smoke rising from the interior. Two correctional guards taken captive were released, state media reported. Ten of the 16 prisoners who were blamed for instigating the violence will be transferred to federal penitentiaries, state media reported, citing local authorities. More than 46 other prisoners will be moved to other prisons in Para. 55 inmates killed in spate of prison riots in BrazilRead MoreThe incident is the latest outbreak of deadly violence in recent months to have taken place in Brazil's often overcrowded and underfunded prison system. In May, 55 inmates were killed in gang-related riots at four prisons in western Brazil.The local prison authorities said at the time the deaths were a result of violent clashes among rival factions within the same drug gang, known as the Family of the North. Benjamin Lessing, a professor at the University of Chicago who studies Brazil's prison gangs, said that there were likely local factors at play in Monday's violence, but the attacks were also part of an ongoing turf war between the country's two main gangs and a \"whole constellation of local gangs.\" \"Most of the violence has been in this region, the north and the northeast region, and it's a place where these gangs are actively fighting each other to achieve some kind of local hegemony or at least carve out space,\" Lessing said. \"It doesn't mean these gangs don't exist in the rest of Brazil -- they do, and there's violence in other parts of Brazil too related to these gangs. But it seems like where the fighting is very intense right now is in this north-northeast region.\" The gangs used to only exist in Rio de Janeiro, but in recent decades have spread throughout the country, Lessing said. In turn, the country's prison population has ballooned to the world's third-largest, trailing only the United States and China, according to the World Prison Brief.Brazil's penitentiary system has for years been plagued by violence due to what analysts have described as systemic failures. The country's top prison official resigned in 2017 after a series of problems with drugs, corruption, escapes and riots.Human rights groups have accused the government of doing too little to prevent the violence at prisons that have become recruitment centers for gangs -- and even facilitating clashes by allowing the cells to become overcrowded.\"As you start to lock up more and more people, you're really giving fuel to the fire. You're putting more people in the hands of these prison gangs, giving them more power to recruit,\" Lessing said.Monday's clashes pose a challenge to the country's new far-right President Jair Bolsonaro, who has previously vowed to crack down on criminal gangs and prison violence.CNN's Flora Charner and Joshua Berlinger contributed to this report"
     ]
    },
    {
     "name": "stdout",
     "output_type": "stream",
     "text": [
      "\n"
     ]
    },
    {
     "name": "stdout",
     "output_type": "stream",
     "text": [
      "['', '', '', '', '', '', '', '', '', '', '', '', '', '', '', '', '', '', '', '', '', 'Prison riot in Brazil leaves 16 inmates decapitated and dozens more killed - CNN', '', '', 'Breaking News', '', '', 'Prison riot in Brazil leaves 16 inmates decapitated and dozens more killedBy Tatiana Arias and Ivana Kottasová, CNNUpdated 9:19 AM ET, Tue July 30, 2019 Chat with us in Facebook Messenger. Find out what\\'s happening in the world as it unfolds.JUST WATCHEDPrison riot leaves 16 inmates decapitated and dozens more killedReplayMore Videos ...MUST WATCH (15 Videos)Prison riot leaves 16 inmates decapitated and dozens more killedBoris Johnson\\'s party suffers by-election defeatA spiraling glass walkway is opening in ChinaSee a crowd catch a boy who fell from a sixth-floor balconySurgical plate found in 15-foot crocodile\\'s stomachSee this freight train derail and spill its cargoMilitary plane crashes near city killing over a dozen peopleRussian opposition leader says he was poisoned in custodyDozens killed after militants open fire at a funeralCNN reporter and crew hit by tear gas in Hong KongTiger beaten to death by villagers in IndiaCoren: Protesters were peaceful, then riot police chargedPhoto leaked of US teen in custody over officer\\'s killingMassive dinosaur bone found in FranceUS water polo players hurt during collapse at Coyote Ugly nightclub (CNN)At least 57 people were killed, including 16 who were decapitated, during a vicious gang battle that erupted in a prison in northern Brazil on Monday morning.The unrest is reported to have begun when a local gang stormed a wing of the facility in Para state controlled by a rival group, state news reported. The majority of the victims are believed to have died from asphyxiation, after gang members set fire to part of the prison complex. State media said the violence began around 7 a.m., local time in the Regional Recovery Center in the city of Altamira and lasted for several hours. Video of the scene showed prisoners sat on the roof of the building, brandishing knifes and with their heads covered, amid smoke rising from the interior. Two correctional guards taken captive were released, state media reported. Ten of the 16 prisoners who were blamed for instigating the violence will be transferred to federal penitentiaries, state media reported, citing local authorities. More than 46 other prisoners will be moved to other prisons in Para. 55 inmates killed in spate of prison riots in BrazilRead MoreThe incident is the latest outbreak of deadly violence in recent months to have taken place in Brazil\\'s often overcrowded and underfunded prison system. In May, 55 inmates were killed in gang-related riots at four prisons in western Brazil.The local prison authorities said at the time the deaths were a result of violent clashes among rival factions within the same drug gang, known as the Family of the North. Benjamin Lessing, a professor at the University of Chicago who studies Brazil\\'s prison gangs, said that there were likely local factors at play in Monday\\'s violence, but the attacks were also part of an ongoing turf war between the country\\'s two main gangs and a \"whole constellation of local gangs.\" \"Most of the violence has been in this region, the north and the northeast region, and it\\'s a place where these gangs are actively fighting each other to achieve some kind of local hegemony or at least carve out space,\" Lessing said. \"It doesn\\'t mean these gangs don\\'t exist in the rest of Brazil -- they do, and there\\'s violence in other parts of Brazil too related to these gangs. But it seems like where the fighting is very intense right now is in this north-northeast region.\" The gangs used to only exist in Rio de Janeiro, but in recent decades have spread throughout the country, Lessing said. In turn, the country\\'s prison population has ballooned to the world\\'s third-largest, trailing only the United States and China, according to the World Prison Brief.Brazil\\'s penitentiary system has for years been plagued by violence due to what analysts have described as systemic failures. The country\\'s top prison official resigned in 2017 after a series of problems with drugs, corruption, escapes and riots.Human rights groups have accused the government of doing too little to prevent the violence at prisons that have become recruitment centers for gangs -- and even facilitating clashes by allowing the cells to become overcrowded.\"As you start to lock up more and more people, you\\'re really giving fuel to the fire. You\\'re putting more people in the hands of these prison gangs, giving them more power to recruit,\" Lessing said.Monday\\'s clashes pose a challenge to the country\\'s new far-right President Jair Bolsonaro, who has previously vowed to crack down on criminal gangs and prison violence.CNN\\'s Flora Charner and Joshua Berlinger contributed to this report', '', '', '', '', '']"
     ]
    },
    {
     "name": "stdout",
     "output_type": "stream",
     "text": [
      "\n"
     ]
    }
   ],
   "source": [
    "on = loaded_sites[1]\n",
    "for script in on(['script','style','header','footer']):\n",
    "    script.extract()\n",
    "text = on.get_text()\n",
    "lines = [line.strip() for line in text.splitlines()]\n",
    "chunks = [phrase.strip() for line in lines for phrase in line.split('  ')]\n",
    "text = '\\n'.join(chunk for chunk in chunks if chunk)\n",
    "print(text)"
   ]
  }
 ],
 "metadata": {
  "kernelspec": {
   "display_name": "Python 2",
   "language": "python",
   "name": "python2"
  },
  "language_info": {
   "codemirror_mode": {
    "name": "ipython",
    "version": 2
   },
   "file_extension": ".py",
   "mimetype": "text/x-python",
   "name": "python",
   "nbconvert_exporter": "python",
   "pygments_lexer": "ipython2",
   "version": "2.7.6"
  }
 },
 "nbformat": 4,
 "nbformat_minor": 0
}
